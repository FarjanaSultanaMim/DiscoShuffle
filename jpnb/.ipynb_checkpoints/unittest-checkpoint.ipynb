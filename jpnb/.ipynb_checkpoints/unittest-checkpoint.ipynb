{
 "cells": [
  {
   "cell_type": "code",
   "execution_count": 7,
   "metadata": {},
   "outputs": [],
   "source": [
    "%load_ext autoreload\n",
    "%autoreload 2"
   ]
  },
  {
   "cell_type": "code",
   "execution_count": 91,
   "metadata": {},
   "outputs": [],
   "source": [
    "import sys\n",
    "sys.path += [\"../src\"]\n",
    "\n",
    "import data"
   ]
  },
  {
   "cell_type": "code",
   "execution_count": 104,
   "metadata": {},
   "outputs": [
    {
     "data": {
      "text/plain": [
       "\"\\nMost University degrees are too theoretically oriented and thus the students, when leaving the university with their diplomas, are not ready and apt to earn their own living. But this disadvantage of academic education will never discourage the young people and they will always be willing to learn and know more. There are a lot of factors that support the idea that university education is of great importance. It is crucial because it helps an individual to form his character, to test his abilities and develop them. But higher education is also responsible for the ultimate awareness that comes with maturity and experience. But, according to me, its greatest contribution is that it establishes a respect in one's own self.\\nUniversity degrees are respected throughout the world, so they have a certain, if not big, value.\\nYoung people, when applying for universities, should be prepared to learn more than they will really need in real life. But this should be so because universities should never be equal to workshops where you simply learn how to do things and then master them to perfection. Just the opposite, higher education aims at suggesting more ideas and different points of view, it aims to raise the mind and to create individuals with wide range of knowledge.\\nOne of the most interesting things that comes with University education is that you encounter various types of people. Among the academic spheres one may get acquainted with the brightest minds of the century, one may find people that follow and share his views, one may come across people that challenge him and thus improve his point of view. The possibilities are numerous and they all have a significant positive value.\\nIn my own opinion, every young intellectual mind should go to the University to acquire, above all, spiritual knowledge, to develop his or her consciousness, to gain respect in his own self and thus to find his proper place in life.\\n\""
      ]
     },
     "execution_count": 104,
     "metadata": {},
     "output_type": "execute_result"
    }
   ],
   "source": [
    "essays = data.load_essay('/home/mim/ICLE_all_data.csv')\n",
    "essays[0]"
   ]
  },
  {
   "cell_type": "code",
   "execution_count": 114,
   "metadata": {},
   "outputs": [],
   "source": [
    "essays = data.preprocess_essay(essays)"
   ]
  },
  {
   "cell_type": "code",
   "execution_count": 115,
   "metadata": {},
   "outputs": [
    {
     "data": {
      "text/plain": [
       "\"most university degrees are too theoretically oriented and thus the students, when leaving the university with their diplomas, are not ready and apt to earn their own living. but this disadvantage of academic education will never discourage the young people and they will always be willing to learn and know more. there are a lot of factors that support the idea that university education is of great importance. it is crucial because it helps an individual to form his character, to test his abilities and develop them. but higher education is also responsible for the ultimate awareness that comes with maturity and experience. but, according to me, its greatest contribution is that it establishes a respect in one's own self.university degrees are respected throughout the world, so they have a certain, if not big, value.young people, when applying for universities, should be prepared to learn more than they will really need in real life. but this should be so because universities should never be equal to workshops where you simply learn how to do things and then master them to perfection. just the opposite, higher education aims at suggesting more ideas and different points of view, it aims to raise the mind and to create individuals with wide range of knowledge.one of the most interesting things that comes with university education is that you encounter various types of people. among the academic spheres one may get acquainted with the brightest minds of the century, one may find people that follow and share his views, one may come across people that challenge him and thus improve his point of view. the possibilities are numerous and they all have a significant positive value.in my own opinion, every young intellectual mind should go to the university to acquire, above all, spiritual knowledge, to develop his or her consciousness, to gain respect in his own self and thus to find his proper place in life.\""
      ]
     },
     "execution_count": 115,
     "metadata": {},
     "output_type": "execute_result"
    }
   ],
   "source": [
    "essays[0]"
   ]
  },
  {
   "cell_type": "code",
   "execution_count": 37,
   "metadata": {},
   "outputs": [],
   "source": [
    "essays_sh, scores_sh = data.create_training_data_for_shuffled_essays(essays)"
   ]
  },
  {
   "cell_type": "code",
   "execution_count": 39,
   "metadata": {},
   "outputs": [
    {
     "data": {
      "text/plain": [
       "9156"
      ]
     },
     "execution_count": 39,
     "metadata": {},
     "output_type": "execute_result"
    }
   ],
   "source": [
    "len(essays_sh)"
   ]
  },
  {
   "cell_type": "markdown",
   "metadata": {},
   "source": [
    "## Discourse indicators"
   ]
  },
  {
   "cell_type": "code",
   "execution_count": 112,
   "metadata": {},
   "outputs": [
    {
     "data": {
      "text/plain": [
       "[['i', 'find', 'it', 'difficult', 'to', 'reach', 'a', 'conclusion', 'but'],\n",
       " ['to', 'give', 'you', 'an', 'example', 'of', 'what', 'i', 'mean'],\n",
       " ['certainly',\n",
       "  'there',\n",
       "  'is',\n",
       "  'no',\n",
       "  'shortage',\n",
       "  'of',\n",
       "  'disagreement',\n",
       "  'within'],\n",
       " ['in', 'the', 'light', 'of', 'the', 'facts', 'outlined', 'above'],\n",
       " ['that', 'is', 'not', 'the', 'way', 'i', 'see', 'it'],\n",
       " ['i', 'do', 'not', 'agree', 'with', 'this', 'statement'],\n",
       " ['i', 'would', 'like', 'to', 'point', 'out', 'that'],\n",
       " ['i', 'have', 'every', 'reason', 'to', 'believe', 'that'],\n",
       " ['i', 'am', 'of', 'exactly', 'the', 'same', 'opinion'],\n",
       " ['i', 'would', 'like', 'to', 'support', 'this', 'view']]"
      ]
     },
     "execution_count": 112,
     "metadata": {},
     "output_type": "execute_result"
    }
   ],
   "source": [
    "di = data.load_discourse_indicators()\n",
    "di[:10]"
   ]
  },
  {
   "cell_type": "code",
   "execution_count": 113,
   "metadata": {},
   "outputs": [
    {
     "data": {
      "text/plain": [
       "\"\\nMost University degrees are DI_too theoretically oriented and DI_thus the students, DI_when leaving the university with their diplomas, are not ready and apt to earn their own living. But this disadvantage of academic education will DI_never discourage the young people and they will DI_always be willing to learn and know more. There are a lot of factors that support the DI_idea that university education is of great importance. It is crucial DI_because it helps an individual to form his character, to test his abilities and develop them. But higher education is DI_also responsible DI_for the ultimate awareness that comes with maturity and experience. But, DI_according to me, its greatest contribution is that it establishes a respect in one's own self.\\nUniversity degrees are respected throughout the world, DI_so they have a certain, DI_if not big, value.\\nYoung people, DI_when applying DI_for universities, should be prepared to learn more than they will DI_really need in real life. But this should be DI_so because universities should DI_never be DI_equal to workshops where you simply learn how to do things DI_and then master them to perfection. Just the opposite, higher education aims at suggesting more ideas and different points of view, it aims to raise the mind and to create individuals with wide range of knowledge.\\nOne of the most interesting things that comes with University education is that you encounter various types of people. Among the academic spheres one may get acquainted with the brightest minds of the century, one may find people that follow and share his views, one may come DI_across people that challenge him and DI_thus improve his point of view. The possibilities are numerous and they all have a significant positive value.\\nIn my own opinion, every young intellectual mind should go to the University to acquire, DI_above all, spiritual knowledge, to develop his DI_or her consciousness, to gain respect in his own self and DI_thus to find his proper place in life.\\n\""
      ]
     },
     "execution_count": 113,
     "metadata": {},
     "output_type": "execute_result"
    }
   ],
   "source": [
    "e = data.find_replace_di(essays[0], di)\n",
    "e"
   ]
  },
  {
   "cell_type": "code",
   "execution_count": 76,
   "metadata": {},
   "outputs": [
    {
     "data": {
      "text/plain": [
       "\"most university degrees are DI_thus theoretically oriented and DI_among the students, DI_but leaving the university with their diplomas, are not ready and apt to earn their own living. DI_never this disadvantage of academic education will DI_above discourage the young people and they will DI_so be willing to learn and know more. DI_but are a lot of factors that support the DI_also that university education is of great importance. it is crucial DI_there it helps an individual to form his character, to test his abilities and develop them. DI_thus higher education is DI_idea responsible DI_really the ultimate awareness that comes with maturity and experience. but, DI_for to me, its greatest contribution is that it establishes a respect in one's own self.university degrees are respected throughout the world, DI_too they have a certain, DI_but not big, value.young people, DI_when applying DI_equal universities, should be prepared to learn more than they will DI_so need in real life. DI_for this should be DI_thus because universities should DI_and be DI_if to workshops where you simply learn how to do things DI_or then master them to perfection. just the opposite, higher education aims at suggesting more ideas and different points of view, it aims to raise the mind and to create individuals with wide range of knowledge.one of the most interesting things that comes with university education is that you encounter various types of people. DI_never the academic spheres one may get acquainted with the brightest minds of the century, one may find people that follow and share his views, one may come DI_because people that challenge him and DI_across improve his point of view. the possibilities are numerous and they all have a significant positive value.in my own opinion, every young intellectual mind should go to the university to acquire, DI_according all, spiritual knowledge, to develop his DI_when her consciousness, to gain respect in his own self and DI_always to find his proper place in life.\""
      ]
     },
     "execution_count": 76,
     "metadata": {},
     "output_type": "execute_result"
    }
   ],
   "source": [
    "data.di_change(e)"
   ]
  },
  {
   "cell_type": "code",
   "execution_count": 122,
   "metadata": {},
   "outputs": [],
   "source": [
    "essays_sh, scores_sh = data.create_training_data_for_di_shuffled_essays(essays, di)"
   ]
  },
  {
   "cell_type": "code",
   "execution_count": 123,
   "metadata": {},
   "outputs": [
    {
     "data": {
      "text/plain": [
       "\"BOS most university degrees are thus theoretically oriented and across the students, never leaving the university with their diplomas, are not ready and apt to earn their own living. EOS BOS when this disadvantage of academic education will for discourage the young people and they will and be willing to learn and know more. EOS BOS also are a lot of factors that support the idea that university education is of great importance. EOS BOS it is crucial but it helps an individual to form his character, to test his abilities and develop them. EOS BOS according higher education is equal responsible above the ultimate awareness that comes with maturity and experience. EOS BOS but, but to me, its greatest contribution is that it establishes a respect in one's own self.university degrees are respected throughout the world, among they have a certain, always not big, value.young people, too applying because universities, should be prepared to learn more than they will so need in real life. EOS BOS so this should be never because universities should if be but to workshops where you simply learn how to do things thus then master them to perfection. EOS BOS just the opposite, higher education aims at suggesting more ideas and different points of view, it aims to raise the mind and to create individuals with wide range of knowledge.one of the most interesting things that comes with university education is that you encounter various types of people. EOS BOS really the academic spheres one may get acquainted with the brightest minds of the century, one may find people that follow and share his views, one may come for people that challenge him and or improve his point of view. EOS BOS the possibilities are numerous and they all have a significant positive value.in my own opinion, every young intellectual mind should go to the university to acquire, thus all, spiritual knowledge, to develop his when her consciousness, to gain respect in his own self and there to find his proper place in life. EOS\""
      ]
     },
     "execution_count": 123,
     "metadata": {},
     "output_type": "execute_result"
    }
   ],
   "source": [
    "essays_sh[int(len(essays_sh)/2)]"
   ]
  },
  {
   "cell_type": "code",
   "execution_count": 124,
   "metadata": {},
   "outputs": [
    {
     "data": {
      "text/plain": [
       "\"BOS most university degrees are too theoretically oriented and thus the students, when leaving the university with their diplomas, are not ready and apt to earn their own living. EOS BOS but this disadvantage of academic education will never discourage the young people and they will always be willing to learn and know more. EOS BOS there are a lot of factors that support the idea that university education is of great importance. EOS BOS it is crucial because it helps an individual to form his character, to test his abilities and develop them. EOS BOS but higher education is also responsible for the ultimate awareness that comes with maturity and experience. EOS BOS but, according to me, its greatest contribution is that it establishes a respect in one's own self.university degrees are respected throughout the world, so they have a certain, if not big, value.young people, when applying for universities, should be prepared to learn more than they will really need in real life. EOS BOS but this should be so because universities should never be equal to workshops where you simply learn how to do things and then master them to perfection. EOS BOS just the opposite, higher education aims at suggesting more ideas and different points of view, it aims to raise the mind and to create individuals with wide range of knowledge.one of the most interesting things that comes with university education is that you encounter various types of people. EOS BOS among the academic spheres one may get acquainted with the brightest minds of the century, one may find people that follow and share his views, one may come across people that challenge him and thus improve his point of view. EOS BOS the possibilities are numerous and they all have a significant positive value.in my own opinion, every young intellectual mind should go to the university to acquire, above all, spiritual knowledge, to develop his or her consciousness, to gain respect in his own self and thus to find his proper place in life. EOS\""
      ]
     },
     "execution_count": 124,
     "metadata": {},
     "output_type": "execute_result"
    }
   ],
   "source": [
    "essays_sh[0]"
   ]
  },
  {
   "cell_type": "code",
   "execution_count": 108,
   "metadata": {},
   "outputs": [
    {
     "data": {
      "text/plain": [
       "'IBBIC'"
      ]
     },
     "execution_count": 108,
     "metadata": {},
     "output_type": "execute_result"
    }
   ],
   "source": [
    "data.get_persing_sequence(essays[0], \"School uniform should be banned.\")"
   ]
  },
  {
   "cell_type": "code",
   "execution_count": 152,
   "metadata": {},
   "outputs": [
    {
     "data": {
      "text/plain": [
       "5"
      ]
     },
     "execution_count": 152,
     "metadata": {},
     "output_type": "execute_result"
    }
   ],
   "source": [
    "len(data.load_folds())"
   ]
  },
  {
   "cell_type": "code",
   "execution_count": null,
   "metadata": {},
   "outputs": [],
   "source": []
  }
 ],
 "metadata": {
  "kernelspec": {
   "display_name": "Python 3",
   "language": "python",
   "name": "python3"
  },
  "language_info": {
   "codemirror_mode": {
    "name": "ipython",
    "version": 3
   },
   "file_extension": ".py",
   "mimetype": "text/x-python",
   "name": "python",
   "nbconvert_exporter": "python",
   "pygments_lexer": "ipython3",
   "version": "3.6.6"
  }
 },
 "nbformat": 4,
 "nbformat_minor": 2
}
