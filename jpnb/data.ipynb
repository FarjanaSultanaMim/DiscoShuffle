{
 "cells": [
  {
   "cell_type": "code",
   "execution_count": 1,
   "metadata": {},
   "outputs": [],
   "source": [
    "%matplotlib inline"
   ]
  },
  {
   "cell_type": "code",
   "execution_count": 2,
   "metadata": {},
   "outputs": [],
   "source": [
    "import pandas as pd\n",
    "import pickle\n",
    "import matplotlib.pyplot as plt"
   ]
  },
  {
   "cell_type": "code",
   "execution_count": 3,
   "metadata": {},
   "outputs": [
    {
     "data": {
      "text/plain": [
       "1003"
      ]
     },
     "execution_count": 3,
     "metadata": {},
     "output_type": "execute_result"
    }
   ],
   "source": [
    "df_ic = pd.ExcelFile(\"/home/mim/ICLE_essay_Wprompt.xlsx\")\n",
    "df = df_ic.parse(\"Sheet1\")\n",
    "len(df)"
   ]
  },
  {
   "cell_type": "code",
   "execution_count": 46,
   "metadata": {},
   "outputs": [
    {
     "ename": "AssertionError",
     "evalue": "",
     "output_type": "error",
     "traceback": [
      "\u001b[0;31m---------------------------------------------------------------------------\u001b[0m",
      "\u001b[0;31mAssertionError\u001b[0m                            Traceback (most recent call last)",
      "\u001b[0;32m<ipython-input-46-3e9e26df4a11>\u001b[0m in \u001b[0;36m<module>\u001b[0;34m\u001b[0m\n\u001b[1;32m     18\u001b[0m \u001b[0mdf\u001b[0m\u001b[0;34m[\u001b[0m\u001b[0;34m[\u001b[0m\u001b[0;34m\"argument_strength\"\u001b[0m\u001b[0;34m,\u001b[0m \u001b[0;34m\"prompt_adherence\"\u001b[0m\u001b[0;34m,\u001b[0m \u001b[0;34m\"thesis_clarity\"\u001b[0m\u001b[0;34m]\u001b[0m\u001b[0;34m]\u001b[0m \u001b[0;34m=\u001b[0m \u001b[0mdf\u001b[0m\u001b[0;34m.\u001b[0m\u001b[0mapply\u001b[0m\u001b[0;34m(\u001b[0m\u001b[0mget_scores\u001b[0m\u001b[0;34m,\u001b[0m \u001b[0maxis\u001b[0m\u001b[0;34m=\u001b[0m\u001b[0;36m1\u001b[0m\u001b[0;34m)\u001b[0m\u001b[0;34m\u001b[0m\u001b[0m\n\u001b[1;32m     19\u001b[0m \u001b[0;32massert\u001b[0m\u001b[0;34m(\u001b[0m\u001b[0mlen\u001b[0m\u001b[0;34m(\u001b[0m\u001b[0mdf\u001b[0m\u001b[0;34m[\u001b[0m\u001b[0mpd\u001b[0m\u001b[0;34m.\u001b[0m\u001b[0mnotna\u001b[0m\u001b[0;34m(\u001b[0m\u001b[0mdf\u001b[0m\u001b[0;34m.\u001b[0m\u001b[0margument_strength\u001b[0m\u001b[0;34m)\u001b[0m\u001b[0;34m]\u001b[0m\u001b[0;34m)\u001b[0m \u001b[0;34m==\u001b[0m \u001b[0;36m1000\u001b[0m\u001b[0;34m)\u001b[0m\u001b[0;34m\u001b[0m\u001b[0m\n\u001b[0;32m---> 20\u001b[0;31m \u001b[0;32massert\u001b[0m\u001b[0;34m(\u001b[0m\u001b[0mlen\u001b[0m\u001b[0;34m(\u001b[0m\u001b[0mdf\u001b[0m\u001b[0;34m[\u001b[0m\u001b[0mpd\u001b[0m\u001b[0;34m.\u001b[0m\u001b[0mnotna\u001b[0m\u001b[0;34m(\u001b[0m\u001b[0mdf\u001b[0m\u001b[0;34m.\u001b[0m\u001b[0mprompt_adherence\u001b[0m\u001b[0;34m)\u001b[0m\u001b[0;34m]\u001b[0m\u001b[0;34m)\u001b[0m \u001b[0;34m==\u001b[0m \u001b[0;36m830\u001b[0m\u001b[0;34m)\u001b[0m\u001b[0;34m\u001b[0m\u001b[0m\n\u001b[0m\u001b[1;32m     21\u001b[0m \u001b[0;32massert\u001b[0m\u001b[0;34m(\u001b[0m\u001b[0mlen\u001b[0m\u001b[0;34m(\u001b[0m\u001b[0mdf\u001b[0m\u001b[0;34m[\u001b[0m\u001b[0mpd\u001b[0m\u001b[0;34m.\u001b[0m\u001b[0mnotna\u001b[0m\u001b[0;34m(\u001b[0m\u001b[0mdf\u001b[0m\u001b[0;34m.\u001b[0m\u001b[0mthesis_clarity\u001b[0m\u001b[0;34m)\u001b[0m\u001b[0;34m]\u001b[0m\u001b[0;34m)\u001b[0m \u001b[0;34m==\u001b[0m \u001b[0;36m830\u001b[0m\u001b[0;34m)\u001b[0m\u001b[0;34m\u001b[0m\u001b[0m\n",
      "\u001b[0;31mAssertionError\u001b[0m: "
     ]
    }
   ],
   "source": [
    "df_as = pd.read_csv(\"../data/ArgumentStrengthScores.txt\", delimiter=\"\\t\", header=None)\n",
    "df_as.columns = \"essay_id score\".split()\n",
    "df_pa = pd.read_csv(\"../data/PromptAdherenceScores.txt\", delimiter=\"\\t\", header=None)\n",
    "df_pa.columns = \"essay_id score\".split()\n",
    "df_tc = pd.read_csv(\"../data/ThesisClarityScores.txt\", delimiter=\"\\t\", header=None)\n",
    "df_tc.columns = \"essay_id score\".split()\n",
    "\n",
    "def get_scores(x):\n",
    "    s_as, s_pa, s_tc = [\n",
    "        list(df_x[df_x.essay_id == x[\"Essay Number\"]].score)[0]\n",
    "        if len(df_x[df_x.essay_id == x[\"Essay Number\"]].score) > 0 else\n",
    "        None\n",
    "        for df_x in [df_as, df_pa, df_tc]\n",
    "    ]\n",
    "    \n",
    "    return pd.Series([s_as, s_pa, s_tc])\n",
    "\n",
    "df[[\"argument_strength\", \"prompt_adherence\", \"thesis_clarity\"]] = df.apply(get_scores, axis=1)\n",
    "assert(len(df[pd.notna(df.argument_strength)]) == 1000)\n",
    "assert(len(df[pd.notna(df.prompt_adherence)]) == 830)\n",
    "assert(len(df[pd.notna(df.thesis_clarity)]) == 830)"
   ]
  },
  {
   "cell_type": "code",
   "execution_count": 48,
   "metadata": {},
   "outputs": [
    {
     "data": {
      "text/plain": [
       "0       2.5\n",
       "1       3.0\n",
       "2       3.0\n",
       "3       3.0\n",
       "4       2.5\n",
       "5       3.0\n",
       "6       2.5\n",
       "7       2.5\n",
       "8       3.0\n",
       "9       3.0\n",
       "10      4.0\n",
       "11      2.0\n",
       "12      2.0\n",
       "13      2.5\n",
       "14      2.0\n",
       "15      2.0\n",
       "16      3.0\n",
       "17      2.5\n",
       "18      3.0\n",
       "19      2.5\n",
       "20      2.5\n",
       "21      2.5\n",
       "22      3.5\n",
       "23      3.0\n",
       "24      3.0\n",
       "25      3.0\n",
       "26      2.5\n",
       "27      3.5\n",
       "28      2.0\n",
       "29      3.5\n",
       "       ... \n",
       "973     3.0\n",
       "974     3.5\n",
       "975     2.5\n",
       "976     3.0\n",
       "977     2.0\n",
       "978     3.0\n",
       "979     1.5\n",
       "980     2.5\n",
       "981     2.0\n",
       "982     3.0\n",
       "983     2.5\n",
       "984     2.0\n",
       "985     3.5\n",
       "986     2.5\n",
       "987     2.5\n",
       "988     2.0\n",
       "989     1.5\n",
       "990     2.5\n",
       "991     3.0\n",
       "992     2.0\n",
       "993     2.0\n",
       "994     1.5\n",
       "995     2.5\n",
       "996     3.0\n",
       "997     3.0\n",
       "998     NaN\n",
       "999     NaN\n",
       "1000    3.5\n",
       "1001    3.5\n",
       "1002    NaN\n",
       "Name: argument_strength, Length: 1003, dtype: float64"
      ]
     },
     "execution_count": 48,
     "metadata": {},
     "output_type": "execute_result"
    }
   ],
   "source": [
    "df.argument_strength"
   ]
  },
  {
   "cell_type": "code",
   "execution_count": 8,
   "metadata": {},
   "outputs": [
    {
     "data": {
      "text/plain": [
       "<matplotlib.axes._subplots.AxesSubplot at 0x7f01bc9a2048>"
      ]
     },
     "execution_count": 8,
     "metadata": {},
     "output_type": "execute_result"
    },
    {
     "data": {
      "image/png": "[encoded data removed]",
      "text/plain": [
       "<Figure size 432x288 with 1 Axes>"
      ]
     },
     "metadata": {
      "needs_background": "light"
     },
     "output_type": "display_data"
    }
   ],
   "source": [
    "df[\"Organization\"].hist(bins=12)"
   ]
  },
  {
   "cell_type": "code",
   "execution_count": 5,
   "metadata": {},
   "outputs": [
    {
     "data": {
      "text/plain": [
       "0    Some people say that in our modern world, domi...\n",
       "1    Most University degrees are theoretical and do...\n",
       "2    Some people say that in our modern world, domi...\n",
       "3    Most University degrees are theoretical and do...\n",
       "4    Some people say that in our modern world, domi...\n",
       "Name: Prompt, dtype: object"
      ]
     },
     "execution_count": 5,
     "metadata": {},
     "output_type": "execute_result"
    }
   ],
   "source": [
    "df[\"Prompt\"].head()"
   ]
  },
  {
   "cell_type": "code",
   "execution_count": 11,
   "metadata": {},
   "outputs": [
    {
     "data": {
      "text/plain": [
       "0    BGSU1001\n",
       "1    BGSU1002\n",
       "2    BGSU1003\n",
       "3    BGSU1004\n",
       "4    BGSU1005\n",
       "Name: Essay Number, dtype: object"
      ]
     },
     "execution_count": 11,
     "metadata": {},
     "output_type": "execute_result"
    }
   ],
   "source": [
    "df[\"Essay Number\"].head()"
   ]
  }
 ],
 "metadata": {
  "kernelspec": {
   "display_name": "Python 3",
   "language": "python",
   "name": "python3"
  },
  "language_info": {
   "codemirror_mode": {
    "name": "ipython",
    "version": 3
   },
   "file_extension": ".py",
   "mimetype": "text/x-python",
   "name": "python",
   "nbconvert_exporter": "python",
   "pygments_lexer": "ipython3",
   "version": "3.6.6"
  }
 },
 "nbformat": 4,
 "nbformat_minor": 2
}
