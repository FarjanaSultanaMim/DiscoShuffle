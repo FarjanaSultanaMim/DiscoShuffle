{
 "cells": [
  {
   "cell_type": "code",
   "execution_count": 1,
   "metadata": {},
   "outputs": [],
   "source": [
    "%matplotlib inline\n",
    "\n",
    "import pandas as pd\n",
    "import pickle\n",
    "import matplotlib.pyplot as plt\n",
    "import numpy as np\n",
    "\n",
    "import json\n",
    "import os\n",
    "import glob\n",
    "import datetime\n",
    "from scipy.stats import wilcoxon\n",
    "from sklearn.metrics import mean_squared_error\n",
    "from scipy.stats import mannwhitneyu"
   ]
  },
  {
   "cell_type": "markdown",
   "metadata": {},
   "source": [
    "### Organization"
   ]
  },
  {
   "cell_type": "markdown",
   "metadata": {},
   "source": [
    "#### DI_shuffle"
   ]
  },
  {
   "cell_type": "code",
   "execution_count": 14,
   "metadata": {},
   "outputs": [],
   "source": [
    "org_base_di = \"/home/mim/repo/Document_representation/output/e885c38c446af586e887fb790dd90930\"\n",
    "org_finetune_di = \"/home/mim/repo/Document_representation/output/0aa2570ced889c4e88ae1554253cb412\"\n",
    "org_no_finetune_di =\"/home/mim/repo/Document_representation/output/46f970b1c6379f85b7ccc1fe68a8af14\""
   ]
  },
  {
   "cell_type": "code",
   "execution_count": 15,
   "metadata": {},
   "outputs": [],
   "source": [
    "def get_prdct_score(file):\n",
    "    prdct=[]\n",
    "    for i in range(5):\n",
    "        pjs = os.path.join(file, \"prediction_f{}.json\".format(i))\n",
    "        with open(pjs) as f:\n",
    "            data = json.load(f)\n",
    "            predct =data[\"system\"]\n",
    "            prdct+=predct\n",
    "\n",
    "    return prdct"
   ]
  },
  {
   "cell_type": "code",
   "execution_count": 16,
   "metadata": {},
   "outputs": [],
   "source": [
    "def get_gold_score(file):\n",
    "    prdct=[]\n",
    "    for i in range(5):\n",
    "        pjs = os.path.join(file, \"prediction_f{}.json\".format(i))\n",
    "        with open(pjs) as f:\n",
    "            data = json.load(f)\n",
    "            predct =data[\"gold\"]\n",
    "            prdct+=predct\n",
    "\n",
    "    return prdct"
   ]
  },
  {
   "cell_type": "code",
   "execution_count": 17,
   "metadata": {},
   "outputs": [],
   "source": [
    "def get_mse(gold, prdct):\n",
    "    \n",
    "    mse=[]\n",
    "    \n",
    "    for i in range(0, len(gold)):\n",
    "        m = mean_squared_error([gold[i]], [prdct[i]])\n",
    "        mse.append(m)\n",
    "        \n",
    "    return mse"
   ]
  },
  {
   "cell_type": "code",
   "execution_count": 18,
   "metadata": {},
   "outputs": [],
   "source": [
    "org_gold_base_di = get_gold_score(org_base_di)\n",
    "org_prdct_base_di = get_prdct_score(org_base_di)\n",
    "org_mse_base_di = get_mse(org_gold_base_di, org_prdct_base_di)"
   ]
  },
  {
   "cell_type": "code",
   "execution_count": 19,
   "metadata": {},
   "outputs": [],
   "source": [
    "org_gold_no_finetune_di = get_gold_score(org_no_finetune_di)\n",
    "org_prdct_no_finetune_di = get_prdct_score(org_no_finetune_di)\n",
    "org_mse_no_finetune_di = get_mse(org_gold_no_finetune_di, org_prdct_no_finetune_di)"
   ]
  },
  {
   "cell_type": "code",
   "execution_count": 20,
   "metadata": {},
   "outputs": [],
   "source": [
    "org_gold_finetune_di = get_gold_score(org_finetune_di)\n",
    "org_prdct_finetune_di = get_prdct_score(org_finetune_di)\n",
    "org_mse_finetune_di = get_mse(org_gold_finetune_di, org_prdct_finetune_di)"
   ]
  },
  {
   "cell_type": "code",
   "execution_count": 21,
   "metadata": {},
   "outputs": [
    {
     "name": "stdout",
     "output_type": "stream",
     "text": [
      "Wilcoxon Signed-Rank Test\n",
      "Organization: di_shuffle\n",
      "no_finetune\n",
      "Statistics=240871.000, p=0.236\n",
      "Same distribution (fail to reject H0)\n"
     ]
    }
   ],
   "source": [
    "print('Wilcoxon Signed-Rank Test')\n",
    "print('Organization: di_shuffle')\n",
    "print('no_finetune')\n",
    "# compare samples\n",
    "stat, p = wilcoxon(org_mse_base_di, org_mse_no_finetune_di)\n",
    "print('Statistics=%.3f, p=%.3f' % (stat, p))\n",
    "# interpret\n",
    "alpha = 0.05\n",
    "if p > alpha:\n",
    "\tprint('Same distribution (fail to reject H0)')\n",
    "else:\n",
    "\tprint('Different distribution (reject H0)')"
   ]
  },
  {
   "cell_type": "code",
   "execution_count": 22,
   "metadata": {},
   "outputs": [
    {
     "name": "stdout",
     "output_type": "stream",
     "text": [
      "Wilcoxon Signed-Rank Test\n",
      "Organization: di shuffle\n",
      "finetune\n",
      "Statistics=242273.000, p=0.302\n",
      "Same distribution (fail to reject H0)\n"
     ]
    }
   ],
   "source": [
    "print('Wilcoxon Signed-Rank Test')\n",
    "print('Organization: di shuffle')\n",
    "print('finetune')\n",
    "# compare samples\n",
    "stat, p = wilcoxon(org_mse_base_di, org_mse_finetune_di)\n",
    "print('Statistics=%.3f, p=%.3f' % (stat, p))\n",
    "# interpret\n",
    "alpha = 0.05\n",
    "if p > alpha:\n",
    "\tprint('Same distribution (fail to reject H0)')\n",
    "else:\n",
    "\tprint('Different distribution (reject H0)')"
   ]
  },
  {
   "cell_type": "markdown",
   "metadata": {},
   "source": [
    "#### sentence shuffle"
   ]
  },
  {
   "cell_type": "code",
   "execution_count": 32,
   "metadata": {},
   "outputs": [],
   "source": [
    "org_base_sent = \"/home/mim/repo/Document_representation/output/e885c38c446af586e887fb790dd90930\"\n",
    "org_finetune_sent = \"/home/mim/repo/Document_representation/output/0cb7a2429b6cc73297413c20570c824f\"\n",
    "org_no_finetune_sent =\"/home/mim/repo/Document_representation/output/752aa6160e706a6ffe0f91a1e423b40a\""
   ]
  },
  {
   "cell_type": "code",
   "execution_count": 33,
   "metadata": {},
   "outputs": [],
   "source": [
    "org_gold_base_sent = get_gold_score(org_base_sent)\n",
    "org_prdct_base_sent = get_prdct_score(org_base_sent)\n",
    "org_mse_base_sent = get_mse(org_gold_base_sent, org_prdct_base_sent)"
   ]
  },
  {
   "cell_type": "code",
   "execution_count": 34,
   "metadata": {},
   "outputs": [],
   "source": [
    "org_gold_no_finetune_sent = get_gold_score(org_no_finetune_sent)\n",
    "org_prdct_no_finetune_sent = get_prdct_score(org_no_finetune_sent)\n",
    "org_mse_no_finetune_sent = get_mse(org_gold_no_finetune_sent, org_prdct_no_finetune_sent)"
   ]
  },
  {
   "cell_type": "code",
   "execution_count": 35,
   "metadata": {},
   "outputs": [],
   "source": [
    "org_gold_finetune_sent = get_gold_score(org_finetune_sent)\n",
    "org_prdct_finetune_sent = get_prdct_score(org_finetune_sent)\n",
    "org_mse_finetune_sent = get_mse(org_gold_finetune_sent, org_prdct_finetune_sent)"
   ]
  },
  {
   "cell_type": "code",
   "execution_count": 36,
   "metadata": {},
   "outputs": [
    {
     "name": "stdout",
     "output_type": "stream",
     "text": [
      "Wilcoxon Signed-Rank Test\n",
      "Organization: sent_shuffle\n",
      "no_finetune\n",
      "Statistics=223678.000, p=0.002\n",
      "Different distribution (reject H0)\n"
     ]
    }
   ],
   "source": [
    "print('Wilcoxon Signed-Rank Test')\n",
    "print('Organization: sent_shuffle')\n",
    "print('no_finetune')\n",
    "# compare samples\n",
    "stat, p = wilcoxon(org_mse_base_sent, org_mse_no_finetune_sent)\n",
    "print('Statistics=%.3f, p=%.3f' % (stat, p))\n",
    "# interpret\n",
    "alpha = 0.05\n",
    "if p > alpha:\n",
    "\tprint('Same distribution (fail to reject H0)')\n",
    "else:\n",
    "\tprint('Different distribution (reject H0)')"
   ]
  },
  {
   "cell_type": "code",
   "execution_count": 37,
   "metadata": {},
   "outputs": [
    {
     "name": "stdout",
     "output_type": "stream",
     "text": [
      "Wilcoxon Signed-Rank Test\n",
      "Organization: sent shuffle\n",
      "finetune\n",
      "Statistics=224649.000, p=0.003\n",
      "Different distribution (reject H0)\n"
     ]
    }
   ],
   "source": [
    "print('Wilcoxon Signed-Rank Test')\n",
    "print('Organization: sent shuffle')\n",
    "print('finetune')\n",
    "# compare samples\n",
    "stat, p = wilcoxon(org_mse_base_sent, org_mse_finetune_sent)\n",
    "print('Statistics=%.3f, p=%.3f' % (stat, p))\n",
    "# interpret\n",
    "alpha = 0.05\n",
    "if p > alpha:\n",
    "\tprint('Same distribution (fail to reject H0)')\n",
    "else:\n",
    "\tprint('Different distribution (reject H0)')"
   ]
  },
  {
   "cell_type": "markdown",
   "metadata": {},
   "source": [
    "### Argument strength"
   ]
  },
  {
   "cell_type": "markdown",
   "metadata": {},
   "source": [
    "#### di_shuffle"
   ]
  },
  {
   "cell_type": "code",
   "execution_count": 38,
   "metadata": {},
   "outputs": [],
   "source": [
    "arg_base_di = \"/home/mim/repo/Document_representation/output/c223f9171d2065520643cf6d654dc138\"\n",
    "arg_finetune_di = \"/home/mim/repo/Document_representation/output/b1809650ecdefed27f07e32a05dc3ade\"\n",
    "arg_no_finetune_di =\"/home/mim/repo/Document_representation/output/cee23dc2ed54aed0911230d84151441e\""
   ]
  },
  {
   "cell_type": "code",
   "execution_count": 39,
   "metadata": {},
   "outputs": [],
   "source": [
    "arg_gold_base_di = get_gold_score(arg_base_di)\n",
    "arg_prdct_base_di = get_prdct_score(arg_base_di)\n",
    "arg_mse_base_di = get_mse(arg_gold_base_di, arg_prdct_base_di)"
   ]
  },
  {
   "cell_type": "code",
   "execution_count": 40,
   "metadata": {},
   "outputs": [],
   "source": [
    "arg_gold_no_finetune_di = get_gold_score(arg_no_finetune_di)\n",
    "arg_prdct_no_finetune_di = get_prdct_score(arg_no_finetune_di)\n",
    "arg_mse_no_finetune_di = get_mse(arg_gold_no_finetune_di, arg_prdct_no_finetune_di)"
   ]
  },
  {
   "cell_type": "code",
   "execution_count": 41,
   "metadata": {},
   "outputs": [],
   "source": [
    "arg_gold_finetune_di = get_gold_score(arg_finetune_di)\n",
    "arg_prdct_finetune_di = get_prdct_score(arg_finetune_di)\n",
    "arg_mse_finetune_di = get_mse(arg_gold_finetune_di, arg_prdct_finetune_di)"
   ]
  },
  {
   "cell_type": "code",
   "execution_count": 42,
   "metadata": {},
   "outputs": [
    {
     "name": "stdout",
     "output_type": "stream",
     "text": [
      "Wilcoxon Signed-Rank Test\n",
      "Argument Strength: di_shuffle\n",
      "no_finetune\n",
      "Statistics=246339.000, p=0.669\n",
      "Same distribution (fail to reject H0)\n"
     ]
    }
   ],
   "source": [
    "print('Wilcoxon Signed-Rank Test')\n",
    "print('Argument Strength: di_shuffle')\n",
    "print('no_finetune')\n",
    "# compare samples\n",
    "stat, p = wilcoxon(arg_mse_base_di, arg_mse_no_finetune_di)\n",
    "print('Statistics=%.3f, p=%.3f' % (stat, p))\n",
    "# interpret\n",
    "alpha = 0.05\n",
    "if p > alpha:\n",
    "\tprint('Same distribution (fail to reject H0)')\n",
    "else:\n",
    "\tprint('Different distribution (reject H0)')"
   ]
  },
  {
   "cell_type": "code",
   "execution_count": 43,
   "metadata": {},
   "outputs": [
    {
     "name": "stdout",
     "output_type": "stream",
     "text": [
      "Wilcoxon Signed-Rank Test\n",
      "Argument Strength: di shuffle\n",
      "finetune\n",
      "Statistics=242302.000, p=0.384\n",
      "Same distribution (fail to reject H0)\n"
     ]
    }
   ],
   "source": [
    "print('Wilcoxon Signed-Rank Test')\n",
    "print('Argument Strength: di shuffle')\n",
    "print('finetune')\n",
    "# compare samples\n",
    "stat, p = wilcoxon(arg_mse_base_di, arg_mse_finetune_di)\n",
    "print('Statistics=%.3f, p=%.3f' % (stat, p))\n",
    "# interpret\n",
    "alpha = 0.05\n",
    "if p > alpha:\n",
    "\tprint('Same distribution (fail to reject H0)')\n",
    "else:\n",
    "\tprint('Different distribution (reject H0)')"
   ]
  },
  {
   "cell_type": "markdown",
   "metadata": {},
   "source": [
    "#### sentence shuffle"
   ]
  },
  {
   "cell_type": "code",
   "execution_count": 44,
   "metadata": {},
   "outputs": [],
   "source": [
    "arg_base_sent = \"/home/mim/repo/Document_representation/output/c223f9171d2065520643cf6d654dc138\"\n",
    "arg_finetune_sent = \"/home/mim/repo/Document_representation/output/51a2e8727c1fe1fa27d190f879ce078d\"\n",
    "arg_no_finetune_sent =\"/home/mim/repo/Document_representation/output/fcbeada6ec3cb1984984fe3ec9cb664e\""
   ]
  },
  {
   "cell_type": "code",
   "execution_count": 45,
   "metadata": {},
   "outputs": [],
   "source": [
    "arg_gold_base_sent = get_gold_score(arg_base_sent)\n",
    "arg_prdct_base_sent = get_prdct_score(arg_base_sent)\n",
    "arg_mse_base_sent = get_mse(arg_gold_base_sent, arg_prdct_base_sent)"
   ]
  },
  {
   "cell_type": "code",
   "execution_count": 46,
   "metadata": {},
   "outputs": [],
   "source": [
    "arg_gold_no_finetune_sent = get_gold_score(arg_no_finetune_sent)\n",
    "arg_prdct_no_finetune_sent = get_prdct_score(arg_no_finetune_sent)\n",
    "arg_mse_no_finetune_sent = get_mse(arg_gold_no_finetune_sent, arg_prdct_no_finetune_sent)"
   ]
  },
  {
   "cell_type": "code",
   "execution_count": 47,
   "metadata": {},
   "outputs": [],
   "source": [
    "arg_gold_finetune_sent = get_gold_score(arg_finetune_sent)\n",
    "arg_prdct_finetune_sent = get_prdct_score(arg_finetune_sent)\n",
    "arg_mse_finetune_sent = get_mse(arg_gold_finetune_sent, arg_prdct_finetune_sent)"
   ]
  },
  {
   "cell_type": "code",
   "execution_count": 50,
   "metadata": {},
   "outputs": [
    {
     "name": "stdout",
     "output_type": "stream",
     "text": [
      "Wilcoxon Signed-Rank Test\n",
      "Argument Strength: sent shuffle\n",
      "no_finetune\n",
      "Statistics=232016.000, p=0.046\n",
      "Different distribution (reject H0)\n"
     ]
    }
   ],
   "source": [
    "print('Wilcoxon Signed-Rank Test')\n",
    "print('Argument Strength: sent shuffle')\n",
    "print('no_finetune')\n",
    "# compare samples\n",
    "stat, p = wilcoxon(arg_mse_base_sent, arg_mse_no_finetune_sent)\n",
    "print('Statistics=%.3f, p=%.3f' % (stat, p))\n",
    "# interpret\n",
    "alpha = 0.05\n",
    "if p > alpha:\n",
    "\tprint('Same distribution (fail to reject H0)')\n",
    "else:\n",
    "\tprint('Different distribution (reject H0)')"
   ]
  },
  {
   "cell_type": "code",
   "execution_count": 51,
   "metadata": {},
   "outputs": [
    {
     "name": "stdout",
     "output_type": "stream",
     "text": [
      "Wilcoxon Signed-Rank Test\n",
      "Argument Strength: sent shuffle\n",
      "finetune\n",
      "Statistics=248003.000, p=0.806\n",
      "Same distribution (fail to reject H0)\n"
     ]
    }
   ],
   "source": [
    "print('Wilcoxon Signed-Rank Test')\n",
    "print('Argument Strength: sent shuffle')\n",
    "print('finetune')\n",
    "# compare samples\n",
    "stat, p = wilcoxon(arg_mse_base_sent, arg_mse_finetune_sent)\n",
    "print('Statistics=%.3f, p=%.3f' % (stat, p))\n",
    "# interpret\n",
    "alpha = 0.05\n",
    "if p > alpha:\n",
    "\tprint('Same distribution (fail to reject H0)')\n",
    "else:\n",
    "\tprint('Different distribution (reject H0)')"
   ]
  },
  {
   "cell_type": "code",
   "execution_count": null,
   "metadata": {},
   "outputs": [],
   "source": []
  }
 ],
 "metadata": {
  "kernelspec": {
   "display_name": "Python 3",
   "language": "python",
   "name": "python3"
  },
  "language_info": {
   "codemirror_mode": {
    "name": "ipython",
    "version": 3
   },
   "file_extension": ".py",
   "mimetype": "text/x-python",
   "name": "python",
   "nbconvert_exporter": "python",
   "pygments_lexer": "ipython3",
   "version": "3.6.5"
  }
 },
 "nbformat": 4,
 "nbformat_minor": 2
}
