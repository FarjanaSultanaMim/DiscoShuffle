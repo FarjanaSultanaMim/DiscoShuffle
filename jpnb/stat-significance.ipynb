{
 "cells": [
  {
   "cell_type": "code",
   "execution_count": 88,
   "metadata": {},
   "outputs": [],
   "source": [
    "%matplotlib inline\n",
    "\n",
    "import pandas as pd\n",
    "import pickle\n",
    "import matplotlib.pyplot as plt\n",
    "import numpy as np\n",
    "\n",
    "import json\n",
    "import os\n",
    "import glob\n",
    "import datetime\n",
    "from scipy.stats import wilcoxon\n",
    "from sklearn.metrics import mean_squared_error\n",
    "from scipy.stats import mannwhitneyu\n",
    "from pathlib import Path\n",
    "import os.path"
   ]
  },
  {
   "cell_type": "markdown",
   "metadata": {},
   "source": [
    "### Organization"
   ]
  },
  {
   "cell_type": "markdown",
   "metadata": {},
   "source": [
    "#### DI_shuffle"
   ]
  },
  {
   "cell_type": "code",
   "execution_count": 14,
   "metadata": {},
   "outputs": [],
   "source": [
    "org_base_di = \"/home/mim/repo/Document_representation/output/e885c38c446af586e887fb790dd90930\"\n",
    "org_finetune_di = \"/home/mim/repo/Document_representation/output/0aa2570ced889c4e88ae1554253cb412\"\n",
    "org_no_finetune_di =\"/home/mim/repo/Document_representation/output/46f970b1c6379f85b7ccc1fe68a8af14\""
   ]
  },
  {
   "cell_type": "code",
   "execution_count": 113,
   "metadata": {},
   "outputs": [],
   "source": [
    "def get_prdct_score_mm(file):\n",
    "    prdct=[]\n",
    "    \n",
    "    for fl in file:\n",
    "    \n",
    "        for filename in os.listdir(fl):\n",
    "            if filename.startswith(\"prediction\"):\n",
    "                pjs = os.path.join(fl, filename)\n",
    "                with open(pjs) as f:\n",
    "                    data = json.load(f)\n",
    "                    predct =data[\"system\"]\n",
    "                    prdct+=predct\n",
    "            \n",
    "    return prdct"
   ]
  },
  {
   "cell_type": "code",
   "execution_count": 69,
   "metadata": {},
   "outputs": [],
   "source": [
    "arg_base_sent = [ \"/home/mim/repo/Document_representation/output/cc6921b6411fafd35673c9e97205f645\"   ,\n",
    "                  \"/home/mim/repo/Document_representation/output/3a203391f62ce4f05275b59bd230f2c8\"  ,\n",
    "                  \"/home/mim/repo/Document_representation/output/b6f4de5597b8b0ee551c7ee054b96dad\"   ,\n",
    "                 \"/home/mim/repo/Document_representation/output/13d452cdff69c644ef03a55b28385c86\"   ,\n",
    "                 \"/home/mim/repo/Document_representation/output/2356c05c9fc695057b73692e52730384\"   ]"
   ]
  },
  {
   "cell_type": "code",
   "execution_count": 102,
   "metadata": {},
   "outputs": [
    {
     "name": "stdout",
     "output_type": "stream",
     "text": [
      "[2.8255653381347656, 2.8848748207092285, 2.8903157711029053, 2.818890333175659, 2.8974673748016357, 2.8595023155212402, 3.08074951171875, 2.816401958465576, 2.8941991329193115, 2.9010121822357178, 2.8290741443634033, 2.824800729751587, 2.884220600128174, 2.8867714405059814, 2.8915231227874756, 2.8142786026000977, 2.898615837097168, 2.8916380405426025, 2.8937795162200928, 2.9023189544677734, 3.0794012546539307, 3.0677096843719482, 2.8172669410705566, 2.8241171836853027, 2.808833122253418, 2.8214712142944336, 2.827253818511963, 2.812922954559326, 2.8153247833251953, 3.0720925331115723, 2.887443780899048, 3.091892719268799, 3.070568084716797, 2.820625066757202, 2.7492403984069824, 2.7561347484588623, 2.75502610206604, 2.7435927391052246, 2.760880470275879, 2.774825096130371, 2.8328378200531006, 2.7538037300109863, 2.7468605041503906, 2.7482128143310547, 2.7572474479675293, 2.751767635345459, 2.8178069591522217, 2.7524092197418213, 2.801534652709961, 2.7582833766937256, 2.756932258605957, 2.7531583309173584, 2.8346898555755615, 2.8324389457702637, 2.7700066566467285, 2.827564239501953, 2.856452226638794, 2.834047317504883, 2.8592300415039062, 2.8273441791534424, 2.7254068851470947, 3.087985038757324, 3.0715231895446777, 3.074831485748291, 2.7021212577819824, 2.8211560249328613, 2.857668161392212, 2.733769416809082, 2.84110951423645, 2.8512845039367676, 2.82322359085083, 2.8225412368774414, 2.83917236328125, 2.7511584758758545, 2.8357293605804443, 2.849936008453369, 2.73590087890625, 2.7198338508605957, 2.827267646789551, 2.8329408168792725, 2.8244519233703613, 2.7127745151519775, 2.7661118507385254, 2.7258999347686768, 2.7289390563964844, 2.8297529220581055, 2.7095532417297363, 3.068417549133301, 2.733912467956543, 2.812466859817505, 2.855654716491699, 2.731799602508545, 2.813955783843994, 2.822521686553955, 2.7179267406463623, 3.0704545974731445, 2.817770481109619, 2.8233401775360107, 2.823702812194824, 2.8239293098449707, 2.817488670349121, 2.860689163208008, 2.818786382675171, 2.8224315643310547, 2.825928211212158, 2.8153958320617676, 2.846566677093506, 3.074333667755127, 2.8094735145568848, 2.708414077758789, 2.8048672676086426, 2.7903213500976562, 2.8549535274505615, 2.8552143573760986, 2.824167490005493, 2.8373324871063232, 2.852304697036743, 2.826284885406494, 2.832839250564575, 2.8118538856506348, 2.7096266746520996, 2.820138454437256, 3.073843479156494, 3.086975574493408, 2.846475601196289, 3.0850775241851807, 3.0806961059570312, 2.7293286323547363, 2.812676191329956, 2.815150022506714, 2.814011573791504, 2.8519647121429443, 2.8085668087005615, 2.8336799144744873, 2.8368241786956787, 2.8237204551696777, 2.735748529434204, 2.746298313140869, 2.809596061706543, 2.826545476913452, 2.8169167041778564, 2.8286492824554443, 2.832268476486206, 2.8244876861572266, 2.8071844577789307, 2.820040225982666, 2.8566787242889404, 2.753513813018799, 2.749605655670166, 2.8009092807769775, 2.827205181121826, 2.817060947418213, 2.7374284267425537, 2.833414316177368, 2.8071248531341553, 2.810563087463379, 2.8225739002227783, 2.820136547088623, 2.8432273864746094, 2.698068857192993, 2.8229451179504395, 3.075385093688965, 2.7233870029449463, 2.8587498664855957, 2.8159570693969727, 2.8221912384033203, 2.809326410293579, 2.812504768371582, 2.7259562015533447, 2.819949150085449, 2.821746826171875, 2.8272273540496826, 2.819895029067993, 2.731879949569702, 2.7255139350891113, 2.7279889583587646, 2.721271514892578, 2.714993953704834, 2.7290077209472656, 2.853234052658081, 2.7652997970581055, 2.8423867225646973, 2.83836030960083, 2.816765069961548, 2.8133246898651123, 2.8100829124450684, 2.8119640350341797, 2.810068130493164, 2.8071224689483643, 2.846623182296753, 2.837202548980713, 2.852428674697876, 2.8428945541381836, 2.8294827938079834, 2.8452541828155518, 2.850855827331543, 2.8695180416107178, 2.799820899963379, 2.820192575454712, 2.851848840713501]\n"
     ]
    }
   ],
   "source": [
    "fl = \"/home/mim/repo/Document_representation/output/cc6921b6411fafd35673c9e97205f645\"\n",
    "for filename in os.listdir(fl):\n",
    "    if filename.startswith(\"prediction\"):\n",
    "        pjs = os.path.join(fl, filename)\n",
    "        with open(pjs) as f:\n",
    "            data = json.load(f)\n",
    "            predct =data[\"system\"]\n",
    "            print(predct)"
   ]
  },
  {
   "cell_type": "code",
   "execution_count": 195,
   "metadata": {},
   "outputs": [],
   "source": [
    "def get_gold_score(file):\n",
    "    prdct=[]\n",
    "    for i in range(5):\n",
    "        pjs = os.path.join(file, \"prediction_f{}.json\".format(i))\n",
    "        with open(pjs) as f:\n",
    "            data = json.load(f)\n",
    "            predct =data[\"gold\"]\n",
    "            prdct+=predct\n",
    "\n",
    "    return prdct"
   ]
  },
  {
   "cell_type": "code",
   "execution_count": 196,
   "metadata": {},
   "outputs": [],
   "source": [
    "def get_prdct_score(file):\n",
    "    prdct=[]\n",
    "    for i in range(5):\n",
    "        pjs = os.path.join(file, \"prediction_f{}.json\".format(i))\n",
    "        with open(pjs) as f:\n",
    "            data = json.load(f)\n",
    "            predct =data[\"system\"]\n",
    "            prdct+=predct\n",
    "\n",
    "    return prdct"
   ]
  },
  {
   "cell_type": "code",
   "execution_count": 197,
   "metadata": {},
   "outputs": [],
   "source": [
    "def get_prdct_score_mm(file):\n",
    "    prdct=[]\n",
    "    \n",
    "    for fl in file:\n",
    "    \n",
    "        for filename in os.listdir(fl):\n",
    "            if filename.startswith(\"prediction\"):\n",
    "                pjs = os.path.join(fl, filename)\n",
    "                with open(pjs) as f:\n",
    "                    data = json.load(f)\n",
    "                    predct =data[\"system\"]\n",
    "                    prdct+=predct\n",
    "            \n",
    "    return prdct"
   ]
  },
  {
   "cell_type": "code",
   "execution_count": 198,
   "metadata": {},
   "outputs": [],
   "source": [
    "def get_gold_score_mm(file):\n",
    "    prdct=[]\n",
    "    \n",
    "    for fl in file:\n",
    "    \n",
    "        for filename in os.listdir(fl):\n",
    "            if filename.startswith(\"prediction\"):\n",
    "                pjs = os.path.join(fl, filename)\n",
    "                with open(pjs) as f:\n",
    "                    data = json.load(f)\n",
    "                    predct =data[\"gold\"]\n",
    "                    prdct+=predct\n",
    "            \n",
    "    return prdct"
   ]
  },
  {
   "cell_type": "code",
   "execution_count": 178,
   "metadata": {},
   "outputs": [],
   "source": [
    "def get_mse(gold, prdct):\n",
    "    \n",
    "    mse=[]\n",
    "    \n",
    "    for i in range(0, len(gold)):\n",
    "        m = mean_squared_error([gold[i]], [prdct[i]])\n",
    "        mse.append(m)\n",
    "        \n",
    "    return mse"
   ]
  },
  {
   "cell_type": "code",
   "execution_count": 18,
   "metadata": {},
   "outputs": [],
   "source": [
    "org_gold_base_di = get_gold_score(org_base_di)\n",
    "org_prdct_base_di = get_prdct_score(org_base_di)\n",
    "org_mse_base_di = get_mse(org_gold_base_di, org_prdct_base_di)"
   ]
  },
  {
   "cell_type": "code",
   "execution_count": 19,
   "metadata": {},
   "outputs": [],
   "source": [
    "org_gold_no_finetune_di = get_gold_score(org_no_finetune_di)\n",
    "org_prdct_no_finetune_di = get_prdct_score(org_no_finetune_di)\n",
    "org_mse_no_finetune_di = get_mse(org_gold_no_finetune_di, org_prdct_no_finetune_di)"
   ]
  },
  {
   "cell_type": "code",
   "execution_count": 20,
   "metadata": {},
   "outputs": [],
   "source": [
    "org_gold_finetune_di = get_gold_score(org_finetune_di)\n",
    "org_prdct_finetune_di = get_prdct_score(org_finetune_di)\n",
    "org_mse_finetune_di = get_mse(org_gold_finetune_di, org_prdct_finetune_di)"
   ]
  },
  {
   "cell_type": "code",
   "execution_count": 21,
   "metadata": {},
   "outputs": [
    {
     "name": "stdout",
     "output_type": "stream",
     "text": [
      "Wilcoxon Signed-Rank Test\n",
      "Organization: di_shuffle\n",
      "no_finetune\n",
      "Statistics=240871.000, p=0.236\n",
      "Same distribution (fail to reject H0)\n"
     ]
    }
   ],
   "source": [
    "print('Wilcoxon Signed-Rank Test')\n",
    "print('Organization: di_shuffle')\n",
    "print('no_finetune')\n",
    "# compare samples\n",
    "stat, p = wilcoxon(org_mse_base_di, org_mse_no_finetune_di)\n",
    "print('Statistics=%.3f, p=%.3f' % (stat, p))\n",
    "# interpret\n",
    "alpha = 0.05\n",
    "if p > alpha:\n",
    "\tprint('Same distribution (fail to reject H0)')\n",
    "else:\n",
    "\tprint('Different distribution (reject H0)')"
   ]
  },
  {
   "cell_type": "code",
   "execution_count": 22,
   "metadata": {},
   "outputs": [
    {
     "name": "stdout",
     "output_type": "stream",
     "text": [
      "Wilcoxon Signed-Rank Test\n",
      "Organization: di shuffle\n",
      "finetune\n",
      "Statistics=242273.000, p=0.302\n",
      "Same distribution (fail to reject H0)\n"
     ]
    }
   ],
   "source": [
    "print('Wilcoxon Signed-Rank Test')\n",
    "print('Organization: di shuffle')\n",
    "print('finetune')\n",
    "# compare samples\n",
    "stat, p = wilcoxon(org_mse_base_di, org_mse_finetune_di)\n",
    "print('Statistics=%.3f, p=%.3f' % (stat, p))\n",
    "# interpret\n",
    "alpha = 0.05\n",
    "if p > alpha:\n",
    "\tprint('Same distribution (fail to reject H0)')\n",
    "else:\n",
    "\tprint('Different distribution (reject H0)')"
   ]
  },
  {
   "cell_type": "markdown",
   "metadata": {},
   "source": [
    "#### sentence shuffle"
   ]
  },
  {
   "cell_type": "code",
   "execution_count": 32,
   "metadata": {},
   "outputs": [],
   "source": [
    "org_base_sent = \"/home/mim/repo/Document_representation/output/e885c38c446af586e887fb790dd90930\"\n",
    "org_finetune_sent = \"/home/mim/repo/Document_representation/output/0cb7a2429b6cc73297413c20570c824f\"\n",
    "org_no_finetune_sent =\"/home/mim/repo/Document_representation/output/752aa6160e706a6ffe0f91a1e423b40a\""
   ]
  },
  {
   "cell_type": "code",
   "execution_count": 33,
   "metadata": {},
   "outputs": [],
   "source": [
    "org_gold_base_sent = get_gold_score(org_base_sent)\n",
    "org_prdct_base_sent = get_prdct_score(org_base_sent)\n",
    "org_mse_base_sent = get_mse(org_gold_base_sent, org_prdct_base_sent)"
   ]
  },
  {
   "cell_type": "code",
   "execution_count": 34,
   "metadata": {},
   "outputs": [],
   "source": [
    "org_gold_no_finetune_sent = get_gold_score(org_no_finetune_sent)\n",
    "org_prdct_no_finetune_sent = get_prdct_score(org_no_finetune_sent)\n",
    "org_mse_no_finetune_sent = get_mse(org_gold_no_finetune_sent, org_prdct_no_finetune_sent)"
   ]
  },
  {
   "cell_type": "code",
   "execution_count": 35,
   "metadata": {},
   "outputs": [],
   "source": [
    "org_gold_finetune_sent = get_gold_score(org_finetune_sent)\n",
    "org_prdct_finetune_sent = get_prdct_score(org_finetune_sent)\n",
    "org_mse_finetune_sent = get_mse(org_gold_finetune_sent, org_prdct_finetune_sent)"
   ]
  },
  {
   "cell_type": "code",
   "execution_count": 36,
   "metadata": {},
   "outputs": [
    {
     "name": "stdout",
     "output_type": "stream",
     "text": [
      "Wilcoxon Signed-Rank Test\n",
      "Organization: sent_shuffle\n",
      "no_finetune\n",
      "Statistics=223678.000, p=0.002\n",
      "Different distribution (reject H0)\n"
     ]
    }
   ],
   "source": [
    "print('Wilcoxon Signed-Rank Test')\n",
    "print('Organization: sent_shuffle')\n",
    "print('no_finetune')\n",
    "# compare samples\n",
    "stat, p = wilcoxon(org_mse_base_sent, org_mse_no_finetune_sent)\n",
    "print('Statistics=%.3f, p=%.3f' % (stat, p))\n",
    "# interpret\n",
    "alpha = 0.05\n",
    "if p > alpha:\n",
    "\tprint('Same distribution (fail to reject H0)')\n",
    "else:\n",
    "\tprint('Different distribution (reject H0)')"
   ]
  },
  {
   "cell_type": "code",
   "execution_count": 37,
   "metadata": {},
   "outputs": [
    {
     "name": "stdout",
     "output_type": "stream",
     "text": [
      "Wilcoxon Signed-Rank Test\n",
      "Organization: sent shuffle\n",
      "finetune\n",
      "Statistics=224649.000, p=0.003\n",
      "Different distribution (reject H0)\n"
     ]
    }
   ],
   "source": [
    "print('Wilcoxon Signed-Rank Test')\n",
    "print('Organization: sent shuffle')\n",
    "print('finetune')\n",
    "# compare samples\n",
    "stat, p = wilcoxon(org_mse_base_sent, org_mse_finetune_sent)\n",
    "print('Statistics=%.3f, p=%.3f' % (stat, p))\n",
    "# interpret\n",
    "alpha = 0.05\n",
    "if p > alpha:\n",
    "\tprint('Same distribution (fail to reject H0)')\n",
    "else:\n",
    "\tprint('Different distribution (reject H0)')"
   ]
  },
  {
   "cell_type": "markdown",
   "metadata": {},
   "source": [
    "#### Paragraph Shuffle"
   ]
  },
  {
   "cell_type": "code",
   "execution_count": 227,
   "metadata": {},
   "outputs": [],
   "source": [
    "org_base_para = \"/home/mim/repo/Document_representation/output/88e8a25fc014694e8fdaf66287ce2991\"\n",
    "org_finetune_para = \"/home/mim/repo/Document_representation/output/e0f6823eef71022650f8c0f93f25de24\"\n",
    "org_no_finetune_para =\"/home/mim/repo/Document_representation/output/2e4d10a66fecc73e6a6a44e4beff5914\""
   ]
  },
  {
   "cell_type": "code",
   "execution_count": 228,
   "metadata": {},
   "outputs": [],
   "source": [
    "org_gold_base_para = get_gold_score(org_base_para)\n",
    "org_prdct_base_para = get_prdct_score(org_base_para)\n",
    "org_mse_base_para = get_mse(org_gold_base_para, org_prdct_base_para)"
   ]
  },
  {
   "cell_type": "code",
   "execution_count": 234,
   "metadata": {},
   "outputs": [
    {
     "data": {
      "text/plain": [
       "1003"
      ]
     },
     "execution_count": 234,
     "metadata": {},
     "output_type": "execute_result"
    }
   ],
   "source": [
    "len(org_mse_base_para)"
   ]
  },
  {
   "cell_type": "code",
   "execution_count": 229,
   "metadata": {},
   "outputs": [],
   "source": [
    "org_gold_no_finetune_para = get_gold_score(org_no_finetune_para)\n",
    "org_prdct_no_finetune_para = get_prdct_score(org_no_finetune_para)\n",
    "org_mse_no_finetune_para = get_mse(org_gold_no_finetune_para, org_prdct_no_finetune_para)"
   ]
  },
  {
   "cell_type": "code",
   "execution_count": 235,
   "metadata": {},
   "outputs": [
    {
     "data": {
      "text/plain": [
       "1003"
      ]
     },
     "execution_count": 235,
     "metadata": {},
     "output_type": "execute_result"
    }
   ],
   "source": [
    "len(org_mse_no_finetune_para)"
   ]
  },
  {
   "cell_type": "code",
   "execution_count": 230,
   "metadata": {},
   "outputs": [],
   "source": [
    "org_gold_finetune_para = get_gold_score(org_finetune_para)\n",
    "org_prdct_finetune_para = get_prdct_score(org_finetune_para)\n",
    "org_mse_finetune_para = get_mse(org_gold_finetune_para, org_prdct_finetune_para)"
   ]
  },
  {
   "cell_type": "code",
   "execution_count": 231,
   "metadata": {},
   "outputs": [
    {
     "name": "stdout",
     "output_type": "stream",
     "text": [
      "Wilcoxon Signed-Rank Test\n",
      "Organization: para_shuffle\n",
      "no_finetune\n",
      "Statistics=200090.000, p=0.000\n",
      "Different distribution (reject H0)\n"
     ]
    }
   ],
   "source": [
    "print('Wilcoxon Signed-Rank Test')\n",
    "print('Organization: para_shuffle')\n",
    "print('no_finetune')\n",
    "# compare samples\n",
    "stat, p = wilcoxon(org_mse_base_para, org_mse_no_finetune_para)\n",
    "print('Statistics=%.3f, p=%.3f' % (stat, p))\n",
    "# interpret\n",
    "alpha = 0.05\n",
    "if p > alpha:\n",
    "\tprint('Same distribution (fail to reject H0)')\n",
    "else:\n",
    "\tprint('Different distribution (reject H0)')"
   ]
  },
  {
   "cell_type": "code",
   "execution_count": 232,
   "metadata": {},
   "outputs": [
    {
     "name": "stdout",
     "output_type": "stream",
     "text": [
      "Wilcoxon Signed-Rank Test\n",
      "Organization: para shuffle\n",
      "finetune\n",
      "Statistics=204966.000, p=0.000\n",
      "Different distribution (reject H0)\n"
     ]
    }
   ],
   "source": [
    "print('Wilcoxon Signed-Rank Test')\n",
    "print('Organization: para shuffle')\n",
    "print('finetune')\n",
    "# compare samples\n",
    "stat, p = wilcoxon(org_mse_base_para, org_mse_finetune_para)\n",
    "print('Statistics=%.3f, p=%.3f' % (stat, p))\n",
    "# interpret\n",
    "alpha = 0.05\n",
    "if p > alpha:\n",
    "\tprint('Same distribution (fail to reject H0)')\n",
    "else:\n",
    "\tprint('Different distribution (reject H0)')"
   ]
  },
  {
   "cell_type": "markdown",
   "metadata": {},
   "source": [
    "#### Argument strength"
   ]
  },
  {
   "cell_type": "markdown",
   "metadata": {},
   "source": [
    "#### di_shuffle"
   ]
  },
  {
   "cell_type": "code",
   "execution_count": 240,
   "metadata": {},
   "outputs": [],
   "source": [
    "arg_base_di = \"/home/mim/repo/Document_representation/output/13d452cdff69c644ef03a55b28385c86\"\n",
    "arg_finetune_di = \"/home/mim/repo/Document_representation/output/640c97d65ddfaaff5f35a387cd7996f6\"\n",
    "arg_no_finetune_di =\"/home/mim/repo/Document_representation/output/0753c23c6a9fabf91e923cd2a33460bf\""
   ]
  },
  {
   "cell_type": "code",
   "execution_count": 241,
   "metadata": {},
   "outputs": [],
   "source": [
    "arg_gold_base_di = get_gold_score(arg_base_di)\n",
    "arg_prdct_base_di = get_prdct_score(arg_base_di)\n",
    "arg_mse_base_di = get_mse(arg_gold_base_di, arg_prdct_base_di)"
   ]
  },
  {
   "cell_type": "code",
   "execution_count": 242,
   "metadata": {},
   "outputs": [],
   "source": [
    "arg_gold_no_finetune_di = get_gold_score(arg_no_finetune_di)\n",
    "arg_prdct_no_finetune_di = get_prdct_score(arg_no_finetune_di)\n",
    "arg_mse_no_finetune_di = get_mse(arg_gold_no_finetune_di, arg_prdct_no_finetune_di)"
   ]
  },
  {
   "cell_type": "code",
   "execution_count": 243,
   "metadata": {},
   "outputs": [],
   "source": [
    "arg_gold_finetune_di = get_gold_score(arg_finetune_di)\n",
    "arg_prdct_finetune_di = get_prdct_score(arg_finetune_di)\n",
    "arg_mse_finetune_di = get_mse(arg_gold_finetune_di, arg_prdct_finetune_di)"
   ]
  },
  {
   "cell_type": "code",
   "execution_count": 244,
   "metadata": {},
   "outputs": [
    {
     "name": "stdout",
     "output_type": "stream",
     "text": [
      "Wilcoxon Signed-Rank Test\n",
      "Argument Strength: di_shuffle\n",
      "no_finetune\n",
      "Statistics=238251.000, p=0.189\n",
      "Same distribution (fail to reject H0)\n"
     ]
    }
   ],
   "source": [
    "print('Wilcoxon Signed-Rank Test')\n",
    "print('Argument Strength: di_shuffle')\n",
    "print('no_finetune')\n",
    "# compare samples\n",
    "stat, p = wilcoxon(arg_mse_base_di, arg_mse_no_finetune_di)\n",
    "print('Statistics=%.3f, p=%.3f' % (stat, p))\n",
    "# interpret\n",
    "alpha = 0.05\n",
    "if p > alpha:\n",
    "\tprint('Same distribution (fail to reject H0)')\n",
    "else:\n",
    "\tprint('Different distribution (reject H0)')"
   ]
  },
  {
   "cell_type": "code",
   "execution_count": 245,
   "metadata": {},
   "outputs": [
    {
     "name": "stdout",
     "output_type": "stream",
     "text": [
      "Wilcoxon Signed-Rank Test\n",
      "Argument Strength: di shuffle\n",
      "finetune\n",
      "Statistics=240520.000, p=0.287\n",
      "Same distribution (fail to reject H0)\n"
     ]
    }
   ],
   "source": [
    "print('Wilcoxon Signed-Rank Test')\n",
    "print('Argument Strength: di shuffle')\n",
    "print('finetune')\n",
    "# compare samples\n",
    "stat, p = wilcoxon(arg_mse_base_di, arg_mse_finetune_di)\n",
    "print('Statistics=%.3f, p=%.3f' % (stat, p))\n",
    "# interpret\n",
    "alpha = 0.05\n",
    "if p > alpha:\n",
    "\tprint('Same distribution (fail to reject H0)')\n",
    "else:\n",
    "\tprint('Different distribution (reject H0)')"
   ]
  },
  {
   "cell_type": "markdown",
   "metadata": {},
   "source": [
    "#### sentence shuffle"
   ]
  },
  {
   "cell_type": "code",
   "execution_count": 150,
   "metadata": {},
   "outputs": [],
   "source": [
    "arg_base_sent = [ \"/home/mim/repo/Document_representation/output/cc6921b6411fafd35673c9e97205f645\"   ,\n",
    "                  \"/home/mim/repo/Document_representation/output/3a203391f62ce4f05275b59bd230f2c8\"  ,\n",
    "                  \"/home/mim/repo/Document_representation/output/b6f4de5597b8b0ee551c7ee054b96dad\"   ,\n",
    "                 \"/home/mim/repo/Document_representation/output/13d452cdff69c644ef03a55b28385c86\"   ,\n",
    "                 \"/home/mim/repo/Document_representation/output/2356c05c9fc695057b73692e52730384\"   ]\n",
    "arg_finetune_sent = [ \"/home/mim/repo/Document_representation/output/f1a5d3567aaa06e22b053a0052eef869\"   ,\n",
    "                  \"/home/mim/repo/Document_representation/output/d0938912754e28c3b4d915e0bbd60e39\"  ,\n",
    "                  \"/home/mim/repo/Document_representation/output/a7707f9b7e3135d32c7cf45c19ebbb95\"   ,\n",
    "                 \"/home/mim/repo/Document_representation/output/f5bce8da0bdef6f5ed3e4dc9254ed52e\"   ,\n",
    "                 \"/home/mim/repo/Document_representation/output/4af3eaa631cb05afaec174a19ab9ad99\"   ]\n",
    "arg_no_finetune_sent = [ \"/home/mim/repo/Document_representation/output/3d3021550b9cd7f93cf5d7f5217cd865\"  ,\n",
    "                 \"/home/mim/repo/Document_representation/output/7adec064c8d9e3c6225af46454da41a0\" ,\n",
    "                       \"/home/mim/repo/Document_representation/output/525098721316f7911bb48e8e6f8a348f\" ]"
   ]
  },
  {
   "cell_type": "code",
   "execution_count": 205,
   "metadata": {},
   "outputs": [],
   "source": [
    "arg_base_sent = \"/home/mim/repo/Document_representation/output/13d452cdff69c644ef03a55b28385c86\"\n",
    "arg_finetune_sent = \"/home/mim/repo/Document_representation/output/1ad5ebcd7fd42d690597ab20c1623052\"\n",
    "arg_no_finetune_sent =\"/home/mim/repo/Document_representation/output/3d3021550b9cd7f93cf5d7f5217cd865\""
   ]
  },
  {
   "cell_type": "code",
   "execution_count": 206,
   "metadata": {},
   "outputs": [],
   "source": [
    "arg_gold_base_sent = get_gold_score(arg_base_sent)\n",
    "arg_prdct_base_sent = get_prdct_score(arg_base_sent)\n",
    "arg_mse_base_sent = get_mse(arg_gold_base_sent, arg_prdct_base_sent)"
   ]
  },
  {
   "cell_type": "code",
   "execution_count": 207,
   "metadata": {},
   "outputs": [
    {
     "data": {
      "text/plain": [
       "1000"
      ]
     },
     "execution_count": 207,
     "metadata": {},
     "output_type": "execute_result"
    }
   ],
   "source": [
    "len(arg_mse_base_sent)"
   ]
  },
  {
   "cell_type": "code",
   "execution_count": 208,
   "metadata": {},
   "outputs": [],
   "source": [
    "arg_gold_no_finetune_sent = get_gold_score(arg_no_finetune_sent)\n",
    "arg_prdct_no_finetune_sent = get_prdct_score(arg_no_finetune_sent)\n",
    "arg_mse_no_finetune_sent = get_mse(arg_gold_no_finetune_sent, arg_prdct_no_finetune_sent)"
   ]
  },
  {
   "cell_type": "code",
   "execution_count": 209,
   "metadata": {},
   "outputs": [
    {
     "data": {
      "text/plain": [
       "1000"
      ]
     },
     "execution_count": 209,
     "metadata": {},
     "output_type": "execute_result"
    }
   ],
   "source": [
    "len(arg_mse_no_finetune_sent)"
   ]
  },
  {
   "cell_type": "code",
   "execution_count": 210,
   "metadata": {},
   "outputs": [],
   "source": [
    "arg_gold_finetune_sent = get_gold_score(arg_finetune_sent)\n",
    "arg_prdct_finetune_sent = get_prdct_score(arg_finetune_sent)\n",
    "arg_mse_finetune_sent = get_mse(arg_gold_finetune_sent, arg_prdct_finetune_sent)"
   ]
  },
  {
   "cell_type": "code",
   "execution_count": 211,
   "metadata": {},
   "outputs": [
    {
     "name": "stdout",
     "output_type": "stream",
     "text": [
      "Wilcoxon Signed-Rank Test\n",
      "Argument Strength: sent shuffle\n",
      "no_finetune\n",
      "Statistics=248984.000, p=0.890\n",
      "Same distribution (fail to reject H0)\n"
     ]
    }
   ],
   "source": [
    "print('Wilcoxon Signed-Rank Test')\n",
    "print('Argument Strength: sent shuffle')\n",
    "print('no_finetune')\n",
    "# compare samples\n",
    "stat, p = wilcoxon(arg_mse_base_sent, arg_mse_no_finetune_sent)\n",
    "print('Statistics=%.3f, p=%.3f' % (stat, p))\n",
    "# interpret\n",
    "alpha = 0.05\n",
    "if p > alpha:\n",
    "\tprint('Same distribution (fail to reject H0)')\n",
    "else:\n",
    "\tprint('Different distribution (reject H0)')"
   ]
  },
  {
   "cell_type": "code",
   "execution_count": 212,
   "metadata": {},
   "outputs": [
    {
     "name": "stdout",
     "output_type": "stream",
     "text": [
      "Wilcoxon Signed-Rank Test\n",
      "Argument Strength: sent shuffle\n",
      "finetune\n",
      "Statistics=225428.000, p=0.007\n",
      "Different distribution (reject H0)\n"
     ]
    }
   ],
   "source": [
    "print('Wilcoxon Signed-Rank Test')\n",
    "print('Argument Strength: sent shuffle')\n",
    "print('finetune')\n",
    "# compare samples\n",
    "stat, p = wilcoxon(arg_mse_base_sent, arg_mse_finetune_sent)\n",
    "print('Statistics=%.3f, p=%.3f' % (stat, p))\n",
    "# interpret\n",
    "alpha = 0.05\n",
    "if p > alpha:\n",
    "\tprint('Same distribution (fail to reject H0)')\n",
    "else:\n",
    "\tprint('Different distribution (reject H0)')"
   ]
  },
  {
   "cell_type": "markdown",
   "metadata": {},
   "source": [
    "#### Paragraph Shuffle"
   ]
  },
  {
   "cell_type": "code",
   "execution_count": 190,
   "metadata": {},
   "outputs": [],
   "source": [
    "arg_base_para = [ \"/home/mim/repo/Document_representation/output/cc6921b6411fafd35673c9e97205f645\"   ,\n",
    "                  \"/home/mim/repo/Document_representation/output/3a203391f62ce4f05275b59bd230f2c8\"  ,\n",
    "                  \"/home/mim/repo/Document_representation/output/b6f4de5597b8b0ee551c7ee054b96dad\"   ,\n",
    "                 \"/home/mim/repo/Document_representation/output/13d452cdff69c644ef03a55b28385c86\"   ,\n",
    "                 \"/home/mim/repo/Document_representation/output/2356c05c9fc695057b73692e52730384\"   ]\n",
    "arg_finetune_para = [ \"/home/mim/repo/Document_representation/output/a69c340fc17c1140e65370784fc3fed5\"   ,\n",
    "                  \"/home/mim/repo/Document_representation/output/a11a7500a0c1ef2f9f989c094c87cdab\"  ,\n",
    "                  \"/home/mim/repo/Document_representation/output/6af19a898b70ba3a7c2fda298faaca61\"   ,\n",
    "                 \"/home/mim/repo/Document_representation/output/42077fc46dd921960b4576b57430445a\"   ,]\n",
    "arg_no_finetune_para = [ \"/home/mim/repo/Document_representation/\"  ,\n",
    "                 \"/home/mim/repo/Document_representation/\" ,\n",
    "                       \"/home/mim/repo/Document_representation/\" ]"
   ]
  },
  {
   "cell_type": "code",
   "execution_count": 213,
   "metadata": {},
   "outputs": [],
   "source": [
    "arg_base_para = \"/home/mim/repo/Document_representation/output/13d452cdff69c644ef03a55b28385c86\"\n",
    "arg_finetune_para = \"/home/mim/repo/Document_representation/output/6af19a898b70ba3a7c2fda298faaca61\"\n",
    "arg_no_finetune_para =\"/home/mim/repo/Document_representation/output/2341f9fcbc4162cc792eb40aafc3524d\""
   ]
  },
  {
   "cell_type": "code",
   "execution_count": 214,
   "metadata": {},
   "outputs": [],
   "source": [
    "arg_gold_base_para = get_gold_score(arg_base_para)\n",
    "arg_prdct_base_para = get_prdct_score(arg_base_para)\n",
    "arg_mse_base_para = get_mse(arg_gold_base_para, arg_prdct_base_para)"
   ]
  },
  {
   "cell_type": "code",
   "execution_count": 215,
   "metadata": {},
   "outputs": [
    {
     "data": {
      "text/plain": [
       "1000"
      ]
     },
     "execution_count": 215,
     "metadata": {},
     "output_type": "execute_result"
    }
   ],
   "source": [
    "len(arg_mse_base_para)"
   ]
  },
  {
   "cell_type": "code",
   "execution_count": 216,
   "metadata": {},
   "outputs": [],
   "source": [
    "arg_gold_no_finetune_para = get_gold_score(arg_no_finetune_para)\n",
    "arg_prdct_no_finetune_para = get_prdct_score(arg_no_finetune_para)\n",
    "arg_mse_no_finetune_para = get_mse(arg_gold_no_finetune_para, arg_prdct_no_finetune_para)"
   ]
  },
  {
   "cell_type": "code",
   "execution_count": 217,
   "metadata": {},
   "outputs": [],
   "source": [
    "arg_gold_finetune_para = get_gold_score(arg_finetune_para)\n",
    "arg_prdct_finetune_para = get_prdct_score(arg_finetune_para)\n",
    "arg_mse_finetune_para = get_mse(arg_gold_finetune_para, arg_prdct_finetune_para)"
   ]
  },
  {
   "cell_type": "code",
   "execution_count": 218,
   "metadata": {},
   "outputs": [
    {
     "data": {
      "text/plain": [
       "1000"
      ]
     },
     "execution_count": 218,
     "metadata": {},
     "output_type": "execute_result"
    }
   ],
   "source": [
    "len(arg_mse_finetune_para)"
   ]
  },
  {
   "cell_type": "code",
   "execution_count": 219,
   "metadata": {},
   "outputs": [
    {
     "name": "stdout",
     "output_type": "stream",
     "text": [
      "Wilcoxon Signed-Rank Test\n",
      "Argument Strength: para shuffle\n",
      "no_finetune\n",
      "Statistics=230012.000, p=0.027\n",
      "Different distribution (reject H0)\n"
     ]
    }
   ],
   "source": [
    "print('Wilcoxon Signed-Rank Test')\n",
    "print('Argument Strength: para shuffle')\n",
    "print('no_finetune')\n",
    "# compare samples\n",
    "stat, p = wilcoxon(arg_mse_base_para, arg_mse_no_finetune_para)\n",
    "print('Statistics=%.3f, p=%.3f' % (stat, p))\n",
    "# interpret\n",
    "alpha = 0.05\n",
    "if p > alpha:\n",
    "\tprint('Same distribution (fail to reject H0)')\n",
    "else:\n",
    "\tprint('Different distribution (reject H0)')"
   ]
  },
  {
   "cell_type": "code",
   "execution_count": 220,
   "metadata": {},
   "outputs": [
    {
     "name": "stdout",
     "output_type": "stream",
     "text": [
      "Wilcoxon Signed-Rank Test\n",
      "Argument Strength: para shuffle\n",
      "finetune\n",
      "Statistics=222428.000, p=0.002\n",
      "Different distribution (reject H0)\n"
     ]
    }
   ],
   "source": [
    "print('Wilcoxon Signed-Rank Test')\n",
    "print('Argument Strength: para shuffle')\n",
    "print('finetune')\n",
    "# compare samples\n",
    "stat, p = wilcoxon(arg_mse_base_para, arg_mse_finetune_para)\n",
    "print('Statistics=%.3f, p=%.3f' % (stat, p))\n",
    "# interpret\n",
    "alpha = 0.05\n",
    "if p > alpha:\n",
    "\tprint('Same distribution (fail to reject H0)')\n",
    "else:\n",
    "\tprint('Different distribution (reject H0)')"
   ]
  },
  {
   "cell_type": "code",
   "execution_count": 173,
   "metadata": {},
   "outputs": [],
   "source": [
    "arg_base_sent = [ \"/home/mim/repo/Document_representation/\"   ,\n",
    "                  \"/home/mim/repo/Document_representation/\"  ,\n",
    "                  \"/home/mim/repo/Document_representation/\"   ,\n",
    "                 \"/home/mim/repo/Document_representation/\"   ,\n",
    "                 \"/home/mim/repo/Document_representation/\"   ]\n",
    "arg_finetune_sent = [ \"/home/mim/repo/Document_representation/\"   ,\n",
    "                  \"/home/mim/repo/Document_representation/\"  ,\n",
    "                  \"/home/mim/repo/Document_representation/\"   ,\n",
    "                 \"/home/mim/repo/Document_representation/\"   ,\n",
    "                 \"/home/mim/repo/Document_representation/\"   ]\n",
    "arg_no_finetune_sent = [ \"/home/mim/repo/Document_representation/\"  ,\n",
    "                 \"/home/mim/repo/Document_representation/\" ,\n",
    "                       \"/home/mim/repo/Document_representation/\" ]"
   ]
  },
  {
   "cell_type": "code",
   "execution_count": null,
   "metadata": {},
   "outputs": [],
   "source": []
  }
 ],
 "metadata": {
  "kernelspec": {
   "display_name": "Python 3",
   "language": "python",
   "name": "python3"
  },
  "language_info": {
   "codemirror_mode": {
    "name": "ipython",
    "version": 3
   },
   "file_extension": ".py",
   "mimetype": "text/x-python",
   "name": "python",
   "nbconvert_exporter": "python",
   "pygments_lexer": "ipython3",
   "version": "3.6.5"
  }
 },
 "nbformat": 4,
 "nbformat_minor": 2
}
