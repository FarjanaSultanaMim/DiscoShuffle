{
 "cells": [
  {
   "cell_type": "code",
   "execution_count": 1,
   "metadata": {},
   "outputs": [],
   "source": [
    "%load_ext autoreload\n",
    "%autoreload 2"
   ]
  },
  {
   "cell_type": "code",
   "execution_count": 2,
   "metadata": {},
   "outputs": [],
   "source": [
    "import sys\n",
    "sys.path += [\"../src\"]\n",
    "\n",
    "import data"
   ]
  },
  {
   "cell_type": "code",
   "execution_count": 3,
   "metadata": {},
   "outputs": [],
   "source": [
    "import numpy as np"
   ]
  },
  {
   "cell_type": "code",
   "execution_count": 17,
   "metadata": {},
   "outputs": [
    {
     "data": {
      "text/plain": [
       "\"\\nMost University degrees are too theoretically oriented and thus the students, when leaving the university with their diplomas, are not ready and apt to earn their own living. But this disadvantage of academic education will never discourage the young people and they will always be willing to learn and know more. There are a lot of factors that support the idea that university education is of great importance. It is crucial because it helps an individual to form his character, to test his abilities and develop them. But higher education is also responsible for the ultimate awareness that comes with maturity and experience. But, according to me, its greatest contribution is that it establishes a respect in one's own self.\\nUniversity degrees are respected throughout the world, so they have a certain, if not big, value.\\nYoung people, when applying for universities, should be prepared to learn more than they will really need in real life. But this should be so because universities should never be equal to workshops where you simply learn how to do things and then master them to perfection. Just the opposite, higher education aims at suggesting more ideas and different points of view, it aims to raise the mind and to create individuals with wide range of knowledge.\\nOne of the most interesting things that comes with University education is that you encounter various types of people. Among the academic spheres one may get acquainted with the brightest minds of the century, one may find people that follow and share his views, one may come across people that challenge him and thus improve his point of view. The possibilities are numerous and they all have a significant positive value.\\nIn my own opinion, every young intellectual mind should go to the University to acquire, above all, spiritual knowledge, to develop his or her consciousness, to gain respect in his own self and thus to find his proper place in life.\\n\""
      ]
     },
     "execution_count": 17,
     "metadata": {},
     "output_type": "execute_result"
    }
   ],
   "source": [
    "raw_essays = data.load_essay('/home/mim/ICLE_all_data.csv')\n",
    "raw_essays[0]"
   ]
  },
  {
   "cell_type": "code",
   "execution_count": 18,
   "metadata": {},
   "outputs": [],
   "source": [
    "essays = data.preprocess_essay(raw_essays)"
   ]
  },
  {
   "cell_type": "code",
   "execution_count": 19,
   "metadata": {},
   "outputs": [
    {
     "data": {
      "text/plain": [
       "\"most university degrees are too theoretically oriented and thus the students, when leaving the university with their diplomas, are not ready and apt to earn their own living. but this disadvantage of academic education will never discourage the young people and they will always be willing to learn and know more. there are a lot of factors that support the idea that university education is of great importance. it is crucial because it helps an individual to form his character, to test his abilities and develop them. but higher education is also responsible for the ultimate awareness that comes with maturity and experience. but, according to me, its greatest contribution is that it establishes a respect in one's own self.university degrees are respected throughout the world, so they have a certain, if not big, value.young people, when applying for universities, should be prepared to learn more than they will really need in real life. but this should be so because universities should never be equal to workshops where you simply learn how to do things and then master them to perfection. just the opposite, higher education aims at suggesting more ideas and different points of view, it aims to raise the mind and to create individuals with wide range of knowledge.one of the most interesting things that comes with university education is that you encounter various types of people. among the academic spheres one may get acquainted with the brightest minds of the century, one may find people that follow and share his views, one may come across people that challenge him and thus improve his point of view. the possibilities are numerous and they all have a significant positive value.in my own opinion, every young intellectual mind should go to the university to acquire, above all, spiritual knowledge, to develop his or her consciousness, to gain respect in his own self and thus to find his proper place in life.\""
      ]
     },
     "execution_count": 19,
     "metadata": {},
     "output_type": "execute_result"
    }
   ],
   "source": [
    "essays[0]"
   ]
  },
  {
   "cell_type": "code",
   "execution_count": 7,
   "metadata": {},
   "outputs": [],
   "source": [
    "essays_sh, scores_sh = data.create_training_data_for_shuffled_essays(essays)"
   ]
  },
  {
   "cell_type": "code",
   "execution_count": 8,
   "metadata": {},
   "outputs": [
    {
     "data": {
      "text/plain": [
       "1480"
      ]
     },
     "execution_count": 8,
     "metadata": {},
     "output_type": "execute_result"
    }
   ],
   "source": [
    "len(essays_sh)"
   ]
  },
  {
   "cell_type": "markdown",
   "metadata": {},
   "source": [
    "## Discourse indicators"
   ]
  },
  {
   "cell_type": "code",
   "execution_count": 9,
   "metadata": {},
   "outputs": [
    {
     "data": {
      "text/plain": [
       "[['i', 'find', 'it', 'difficult', 'to', 'reach', 'a', 'conclusion', 'but'],\n",
       " ['to', 'give', 'you', 'an', 'example', 'of', 'what', 'i', 'mean'],\n",
       " ['certainly',\n",
       "  'there',\n",
       "  'is',\n",
       "  'no',\n",
       "  'shortage',\n",
       "  'of',\n",
       "  'disagreement',\n",
       "  'within'],\n",
       " ['in', 'the', 'light', 'of', 'the', 'facts', 'outlined', 'above'],\n",
       " ['that', 'is', 'not', 'the', 'way', 'i', 'see', 'it'],\n",
       " ['i', 'do', 'not', 'agree', 'with', 'this', 'statement'],\n",
       " ['i', 'would', 'like', 'to', 'point', 'out', 'that'],\n",
       " ['i', 'have', 'every', 'reason', 'to', 'believe', 'that'],\n",
       " ['i', 'am', 'of', 'exactly', 'the', 'same', 'opinion'],\n",
       " ['i', 'would', 'like', 'to', 'support', 'this', 'view']]"
      ]
     },
     "execution_count": 9,
     "metadata": {},
     "output_type": "execute_result"
    }
   ],
   "source": [
    "di = data.load_discourse_indicators()\n",
    "di[:10]"
   ]
  },
  {
   "cell_type": "code",
   "execution_count": 10,
   "metadata": {},
   "outputs": [
    {
     "data": {
      "text/plain": [
       "\"most university degrees are DI_too theoretically oriented and DI_thus the students, DI_when leaving the university with their diplomas, are not ready and apt to earn their own living. DI_but this disadvantage of academic education will DI_never discourage the young people and they will DI_always be willing to learn and know more. DI_there are a lot of factors that support the DI_idea that university education is of great importance. it is crucial DI_because it helps an individual to form his character, to test his abilities and develop them. DI_but higher education is DI_also responsible DI_for the ultimate awareness that comes with maturity and experience. but, DI_according to me, its greatest contribution is that it establishes a respect in one's own self.university degrees are respected throughout the world, DI_so they have a certain, DI_if not big, value.young people, DI_when applying DI_for universities, should be prepared to learn more than they will DI_really need in real life. DI_but this should be DI_so because universities should DI_never be DI_equal to workshops where you simply learn how to do things DI_and then master them to perfection. just the opposite, higher education aims at suggesting more ideas and different points of view, it aims to raise the mind and to create individuals with wide range of knowledge.one of the most interesting things that comes with university education is that you encounter various types of people. DI_among the academic spheres one may get acquainted with the brightest minds of the century, one may find people that follow and share his views, one may come DI_across people that challenge him and DI_thus improve his point of view. the possibilities are numerous and they all have a significant positive value.in my own opinion, every young intellectual mind should go to the university to acquire, DI_above all, spiritual knowledge, to develop his DI_or her consciousness, to gain respect in his own self and DI_thus to find his proper place in life.\""
      ]
     },
     "execution_count": 10,
     "metadata": {},
     "output_type": "execute_result"
    }
   ],
   "source": [
    "e = data.find_replace_di(essays[0], di)\n",
    "e"
   ]
  },
  {
   "cell_type": "code",
   "execution_count": 11,
   "metadata": {},
   "outputs": [
    {
     "data": {
      "text/plain": [
       "\"most university degrees are but theoretically oriented and above the students, because leaving the university with their diplomas, are not ready and apt to earn their own living. never this disadvantage of academic education will thus discourage the young people and they will so be willing to learn and know more. thus are a lot of factors that support the too that university education is of great importance. it is crucial according it helps an individual to form his character, to test his abilities and develop them. also higher education is equal responsible when the ultimate awareness that comes with maturity and experience. but, or to me, its greatest contribution is that it establishes a respect in one's own self.university degrees are respected throughout the world, if they have a certain, always not big, value.young people, when applying really universities, should be prepared to learn more than they will for need in real life. never this should be so because universities should thus be across to workshops where you simply learn how to do things but then master them to perfection. just the opposite, higher education aims at suggesting more ideas and different points of view, it aims to raise the mind and to create individuals with wide range of knowledge.one of the most interesting things that comes with university education is that you encounter various types of people. among the academic spheres one may get acquainted with the brightest minds of the century, one may find people that follow and share his views, one may come there people that challenge him and and improve his point of view. the possibilities are numerous and they all have a significant positive value.in my own opinion, every young intellectual mind should go to the university to acquire, idea all, spiritual knowledge, to develop his but her consciousness, to gain respect in his own self and for to find his proper place in life.\""
      ]
     },
     "execution_count": 11,
     "metadata": {},
     "output_type": "execute_result"
    }
   ],
   "source": [
    "data.di_change(e)"
   ]
  },
  {
   "cell_type": "code",
   "execution_count": 12,
   "metadata": {},
   "outputs": [],
   "source": [
    "essays_sh, scores_sh = data.create_training_data_for_di_shuffled_essays(essays, di)"
   ]
  },
  {
   "cell_type": "code",
   "execution_count": 13,
   "metadata": {},
   "outputs": [
    {
     "data": {
      "text/plain": [
       "\"BOS most university degrees are and theoretically oriented and above the students, idea leaving the university with their diplomas, are not ready and apt to earn their own living. EOS BOS according this disadvantage of academic education will but discourage the young people and they will thus be willing to learn and know more. EOS BOS for are a lot of factors that support the if that university education is of great importance. EOS BOS it is crucial thus it helps an individual to form his character, to test his abilities and develop them. EOS BOS because higher education is or responsible never the ultimate awareness that comes with maturity and experience. EOS BOS but, too to me, its greatest contribution is that it establishes a respect in one's own self.university degrees are respected throughout the world, across they have a certain, but not big, value.young people, so applying among universities, should be prepared to learn more than they will for need in real life. EOS BOS also this should be so because universities should equal be when to workshops where you simply learn how to do things thus then master them to perfection. EOS BOS just the opposite, higher education aims at suggesting more ideas and different points of view, it aims to raise the mind and to create individuals with wide range of knowledge.one of the most interesting things that comes with university education is that you encounter various types of people. EOS BOS but the academic spheres one may get acquainted with the brightest minds of the century, one may find people that follow and share his views, one may come there people that challenge him and never improve his point of view. EOS BOS the possibilities are numerous and they all have a significant positive value.in my own opinion, every young intellectual mind should go to the university to acquire, really all, spiritual knowledge, to develop his when her consciousness, to gain respect in his own self and always to find his proper place in life. EOS\""
      ]
     },
     "execution_count": 13,
     "metadata": {},
     "output_type": "execute_result"
    }
   ],
   "source": [
    "essays_sh[int(len(essays_sh)/2)]"
   ]
  },
  {
   "cell_type": "code",
   "execution_count": 14,
   "metadata": {},
   "outputs": [
    {
     "data": {
      "text/plain": [
       "\"BOS most university degrees are too theoretically oriented and thus the students, when leaving the university with their diplomas, are not ready and apt to earn their own living. EOS BOS but this disadvantage of academic education will never discourage the young people and they will always be willing to learn and know more. EOS BOS there are a lot of factors that support the idea that university education is of great importance. EOS BOS it is crucial because it helps an individual to form his character, to test his abilities and develop them. EOS BOS but higher education is also responsible for the ultimate awareness that comes with maturity and experience. EOS BOS but, according to me, its greatest contribution is that it establishes a respect in one's own self.university degrees are respected throughout the world, so they have a certain, if not big, value.young people, when applying for universities, should be prepared to learn more than they will really need in real life. EOS BOS but this should be so because universities should never be equal to workshops where you simply learn how to do things and then master them to perfection. EOS BOS just the opposite, higher education aims at suggesting more ideas and different points of view, it aims to raise the mind and to create individuals with wide range of knowledge.one of the most interesting things that comes with university education is that you encounter various types of people. EOS BOS among the academic spheres one may get acquainted with the brightest minds of the century, one may find people that follow and share his views, one may come across people that challenge him and thus improve his point of view. EOS BOS the possibilities are numerous and they all have a significant positive value.in my own opinion, every young intellectual mind should go to the university to acquire, above all, spiritual knowledge, to develop his or her consciousness, to gain respect in his own self and thus to find his proper place in life. EOS\""
      ]
     },
     "execution_count": 14,
     "metadata": {},
     "output_type": "execute_result"
    }
   ],
   "source": [
    "essays_sh[0]"
   ]
  },
  {
   "cell_type": "code",
   "execution_count": 20,
   "metadata": {},
   "outputs": [
    {
     "data": {
      "text/plain": [
       "'IBBIC'"
      ]
     },
     "execution_count": 20,
     "metadata": {},
     "output_type": "execute_result"
    }
   ],
   "source": [
    "data.get_persing_sequence(raw_essays[0], \"School uniform should be banned.\")"
   ]
  },
  {
   "cell_type": "code",
   "execution_count": 199,
   "metadata": {},
   "outputs": [],
   "source": [
    "ids, essays, scores, prompts = data.load_annotated_essay(\"/home/mim/ICLE_essay_Wprompt.xlsx\")"
   ]
  },
  {
   "cell_type": "code",
   "execution_count": 193,
   "metadata": {},
   "outputs": [],
   "source": [
    "cv = dict([(v, k) for k, v in enumerate(ids)])\n",
    "f = data.load_folds(id2idx = cv)"
   ]
  },
  {
   "cell_type": "code",
   "execution_count": 201,
   "metadata": {},
   "outputs": [
    {
     "data": {
      "text/plain": [
       "[276, 214, 373, 418, 692, 914, 857, 95, 147, 38]"
      ]
     },
     "execution_count": 201,
     "metadata": {},
     "output_type": "execute_result"
    }
   ],
   "source": [
    "f[0][:10]"
   ]
  },
  {
   "cell_type": "code",
   "execution_count": 195,
   "metadata": {},
   "outputs": [
    {
     "data": {
      "text/plain": [
       "200"
      ]
     },
     "execution_count": 195,
     "metadata": {},
     "output_type": "execute_result"
    }
   ],
   "source": [
    "train, valid, test = data.get_fold(f, 0)\n",
    "len(test)"
   ]
  },
  {
   "cell_type": "code",
   "execution_count": 198,
   "metadata": {},
   "outputs": [
    {
     "data": {
      "text/plain": [
       "array([0, 1, 2, 3, 4, 5, 6, 7, 8, 9])"
      ]
     },
     "execution_count": 198,
     "metadata": {},
     "output_type": "execute_result"
    }
   ],
   "source": [
    "np.arange(10)"
   ]
  },
  {
   "cell_type": "code",
   "execution_count": 205,
   "metadata": {},
   "outputs": [
    {
     "data": {
      "text/plain": [
       "False"
      ]
     },
     "execution_count": 205,
     "metadata": {},
     "output_type": "execute_result"
    }
   ],
   "source": [
    "import ast\n",
    "ast.literal_eval(\"False\")"
   ]
  },
  {
   "cell_type": "code",
   "execution_count": 220,
   "metadata": {},
   "outputs": [
    {
     "data": {
      "text/plain": [
       "15.0"
      ]
     },
     "execution_count": 220,
     "metadata": {},
     "output_type": "execute_result"
    }
   ],
   "source": [
    "((np.array([5,5,5]) - np.array([3,10,1]))**2).mean()"
   ]
  },
  {
   "cell_type": "code",
   "execution_count": 218,
   "metadata": {},
   "outputs": [
    {
     "data": {
      "text/plain": [
       "'[0, 0, 0]'"
      ]
     },
     "execution_count": 218,
     "metadata": {},
     "output_type": "execute_result"
    }
   ],
   "source": [
    "import json\n",
    "json.dumps(np.array([0,0,0]).tolist())"
   ]
  },
  {
   "cell_type": "code",
   "execution_count": 225,
   "metadata": {},
   "outputs": [
    {
     "data": {
      "text/plain": [
       "0.41549608663753396"
      ]
     },
     "execution_count": 225,
     "metadata": {},
     "output_type": "execute_result"
    }
   ],
   "source": [
    "np.sqrt(0.1726369980111051)"
   ]
  },
  {
   "cell_type": "code",
   "execution_count": null,
   "metadata": {},
   "outputs": [],
   "source": []
  }
 ],
 "metadata": {
  "kernelspec": {
   "display_name": "Python 3",
   "language": "python",
   "name": "python3"
  },
  "language_info": {
   "codemirror_mode": {
    "name": "ipython",
    "version": 3
   },
   "file_extension": ".py",
   "mimetype": "text/x-python",
   "name": "python",
   "nbconvert_exporter": "python",
   "pygments_lexer": "ipython3",
   "version": "3.6.6"
  }
 },
 "nbformat": 4,
 "nbformat_minor": 2
}
